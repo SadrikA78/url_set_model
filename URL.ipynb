{
  "nbformat": 4,
  "nbformat_minor": 0,
  "metadata": {
    "colab": {
      "name": "URL.ipynb",
      "provenance": [],
      "collapsed_sections": []
    },
    "kernelspec": {
      "name": "python3",
      "display_name": "Python 3"
    },
    "accelerator": "GPU"
  },
  "cells": [
    {
      "cell_type": "code",
      "metadata": {
        "id": "Kg2nscyz8fL-",
        "colab_type": "code",
        "outputId": "2c04a224-17ae-46d3-cb23-c220f252b0f6",
        "colab": {
          "base_uri": "https://localhost:8080/",
          "height": 170
        }
      },
      "source": [
        "!pip install graphviz\n",
        "!apt-get install graphviz\n",
        "!pip install -q pydot"
      ],
      "execution_count": 0,
      "outputs": [
        {
          "output_type": "stream",
          "text": [
            "Requirement already satisfied: graphviz in /usr/local/lib/python3.6/dist-packages (0.10.1)\n",
            "Reading package lists... Done\n",
            "Building dependency tree       \n",
            "Reading state information... Done\n",
            "graphviz is already the newest version (2.40.1-2).\n",
            "The following package was automatically installed and is no longer required:\n",
            "  libnvidia-common-410\n",
            "Use 'apt autoremove' to remove it.\n",
            "0 upgraded, 0 newly installed, 0 to remove and 6 not upgraded.\n"
          ],
          "name": "stdout"
        }
      ]
    },
    {
      "cell_type": "code",
      "metadata": {
        "id": "qegv6rIcOITH",
        "colab_type": "code",
        "outputId": "559aa7f7-2656-4d69-e0ad-5892cef2a60f",
        "colab": {
          "base_uri": "https://localhost:8080/",
          "height": 170
        }
      },
      "source": [
        "!apt-get autoremove"
      ],
      "execution_count": 0,
      "outputs": [
        {
          "output_type": "stream",
          "text": [
            "\rReading package lists... 0%\r\rReading package lists... 0%\r\rReading package lists... 0%\r\rReading package lists... 7%\r\rReading package lists... 7%\r\rReading package lists... 8%\r\rReading package lists... 8%\r\rReading package lists... 71%\r\rReading package lists... 72%\r\rReading package lists... 72%\r\rReading package lists... 73%\r\rReading package lists... 73%\r\rReading package lists... 79%\r\rReading package lists... 79%\r\rReading package lists... 79%\r\rReading package lists... 79%\r\rReading package lists... 88%\r\rReading package lists... 88%\r\rReading package lists... 88%\r\rReading package lists... 88%\r\rReading package lists... 88%\r\rReading package lists... 88%\r\rReading package lists... 88%\r\rReading package lists... 88%\r\rReading package lists... 91%\r\rReading package lists... 91%\r\rReading package lists... 91%\r\rReading package lists... 91%\r\rReading package lists... 93%\r\rReading package lists... 93%\r\rReading package lists... 93%\r\rReading package lists... 93%\r\rReading package lists... 94%\r\rReading package lists... 94%\r\rReading package lists... 94%\r\rReading package lists... 94%\r\rReading package lists... 94%\r\rReading package lists... 94%\r\rReading package lists... 98%\r\rReading package lists... 98%\r\rReading package lists... 98%\r\rReading package lists... 98%\r\rReading package lists... Done\r\n",
            "\rBuilding dependency tree... 0%\r\rBuilding dependency tree... 0%\r\rBuilding dependency tree... 50%\r\rBuilding dependency tree... 50%\r\rBuilding dependency tree       \r\n",
            "\rReading state information... 0%\r\rReading state information... 0%\r\rReading state information... Done\r\n",
            "The following packages will be REMOVED:\n",
            "  libnvidia-common-410\n",
            "0 upgraded, 0 newly installed, 1 to remove and 6 not upgraded.\n",
            "After this operation, 33.8 kB disk space will be freed.\n",
            "(Reading database ... 130911 files and directories currently installed.)\n",
            "Removing libnvidia-common-410 (410.104-0ubuntu1) ...\n"
          ],
          "name": "stdout"
        }
      ]
    },
    {
      "cell_type": "code",
      "metadata": {
        "id": "ilU-dBTC8wUq",
        "colab_type": "code",
        "outputId": "abb53036-f8b8-4274-ce67-429437a385d8",
        "colab": {
          "base_uri": "https://localhost:8080/",
          "height": 1941
        }
      },
      "source": [
        "print(\"*************** GPU info ***************\")\n",
        "!cat /proc/driver/nvidia/gpus/0000:00:04.0/information\n",
        "print(\"*************** CPU info ***************\")\n",
        "!cat /proc/cpuinfo\n",
        "print(\"*************** Memory info ***************\")\n",
        "!cat /proc/meminfo"
      ],
      "execution_count": 0,
      "outputs": [
        {
          "output_type": "stream",
          "text": [
            "*************** GPU info ***************\n",
            "Model: \t\t Tesla K80\n",
            "IRQ:   \t\t 33\n",
            "GPU UUID: \t GPU-46163f9d-aa29-6d72-42e5-69f5609df0ad\n",
            "Video BIOS: \t 80.21.25.00.02\n",
            "Bus Type: \t PCI\n",
            "DMA Size: \t 40 bits\n",
            "DMA Mask: \t 0xffffffffff\n",
            "Bus Location: \t 0000:00:04.0\n",
            "Device Minor: \t 0\n",
            "Blacklisted:\t No\n",
            "*************** CPU info ***************\n",
            "processor\t: 0\n",
            "vendor_id\t: GenuineIntel\n",
            "cpu family\t: 6\n",
            "model\t\t: 79\n",
            "model name\t: Intel(R) Xeon(R) CPU @ 2.20GHz\n",
            "stepping\t: 0\n",
            "microcode\t: 0x1\n",
            "cpu MHz\t\t: 2200.000\n",
            "cache size\t: 56320 KB\n",
            "physical id\t: 0\n",
            "siblings\t: 2\n",
            "core id\t\t: 0\n",
            "cpu cores\t: 1\n",
            "apicid\t\t: 0\n",
            "initial apicid\t: 0\n",
            "fpu\t\t: yes\n",
            "fpu_exception\t: yes\n",
            "cpuid level\t: 13\n",
            "wp\t\t: yes\n",
            "flags\t\t: fpu vme de pse tsc msr pae mce cx8 apic sep mtrr pge mca cmov pat pse36 clflush mmx fxsr sse sse2 ss ht syscall nx pdpe1gb rdtscp lm constant_tsc rep_good nopl xtopology nonstop_tsc cpuid tsc_known_freq pni pclmulqdq ssse3 fma cx16 pcid sse4_1 sse4_2 x2apic movbe popcnt aes xsave avx f16c rdrand hypervisor lahf_lm abm 3dnowprefetch invpcid_single pti ssbd ibrs ibpb stibp fsgsbase tsc_adjust bmi1 hle avx2 smep bmi2 erms invpcid rtm rdseed adx smap xsaveopt arat arch_capabilities\n",
            "bugs\t\t: cpu_meltdown spectre_v1 spectre_v2 spec_store_bypass l1tf\n",
            "bogomips\t: 4400.00\n",
            "clflush size\t: 64\n",
            "cache_alignment\t: 64\n",
            "address sizes\t: 46 bits physical, 48 bits virtual\n",
            "power management:\n",
            "\n",
            "processor\t: 1\n",
            "vendor_id\t: GenuineIntel\n",
            "cpu family\t: 6\n",
            "model\t\t: 79\n",
            "model name\t: Intel(R) Xeon(R) CPU @ 2.20GHz\n",
            "stepping\t: 0\n",
            "microcode\t: 0x1\n",
            "cpu MHz\t\t: 2200.000\n",
            "cache size\t: 56320 KB\n",
            "physical id\t: 0\n",
            "siblings\t: 2\n",
            "core id\t\t: 0\n",
            "cpu cores\t: 1\n",
            "apicid\t\t: 1\n",
            "initial apicid\t: 1\n",
            "fpu\t\t: yes\n",
            "fpu_exception\t: yes\n",
            "cpuid level\t: 13\n",
            "wp\t\t: yes\n",
            "flags\t\t: fpu vme de pse tsc msr pae mce cx8 apic sep mtrr pge mca cmov pat pse36 clflush mmx fxsr sse sse2 ss ht syscall nx pdpe1gb rdtscp lm constant_tsc rep_good nopl xtopology nonstop_tsc cpuid tsc_known_freq pni pclmulqdq ssse3 fma cx16 pcid sse4_1 sse4_2 x2apic movbe popcnt aes xsave avx f16c rdrand hypervisor lahf_lm abm 3dnowprefetch invpcid_single pti ssbd ibrs ibpb stibp fsgsbase tsc_adjust bmi1 hle avx2 smep bmi2 erms invpcid rtm rdseed adx smap xsaveopt arat arch_capabilities\n",
            "bugs\t\t: cpu_meltdown spectre_v1 spectre_v2 spec_store_bypass l1tf\n",
            "bogomips\t: 4400.00\n",
            "clflush size\t: 64\n",
            "cache_alignment\t: 64\n",
            "address sizes\t: 46 bits physical, 48 bits virtual\n",
            "power management:\n",
            "\n",
            "*************** Memory info ***************\n",
            "MemTotal:       13335268 kB\n",
            "MemFree:        10972584 kB\n",
            "MemAvailable:   12641864 kB\n",
            "Buffers:           73656 kB\n",
            "Cached:          1756628 kB\n",
            "SwapCached:            0 kB\n",
            "Active:           583656 kB\n",
            "Inactive:        1518836 kB\n",
            "Active(anon):     252616 kB\n",
            "Inactive(anon):      344 kB\n",
            "Active(file):     331040 kB\n",
            "Inactive(file):  1518492 kB\n",
            "Unevictable:           0 kB\n",
            "Mlocked:               0 kB\n",
            "SwapTotal:             0 kB\n",
            "SwapFree:              0 kB\n",
            "Dirty:               500 kB\n",
            "Writeback:             0 kB\n",
            "AnonPages:        272264 kB\n",
            "Mapped:           164104 kB\n",
            "Shmem:               904 kB\n",
            "Slab:             153912 kB\n",
            "SReclaimable:     121288 kB\n",
            "SUnreclaim:        32624 kB\n",
            "KernelStack:        3748 kB\n",
            "PageTables:         4616 kB\n",
            "NFS_Unstable:          0 kB\n",
            "Bounce:                0 kB\n",
            "WritebackTmp:          0 kB\n",
            "CommitLimit:     6667632 kB\n",
            "Committed_AS:    1754172 kB\n",
            "VmallocTotal:   34359738367 kB\n",
            "VmallocUsed:           0 kB\n",
            "VmallocChunk:          0 kB\n",
            "AnonHugePages:         0 kB\n",
            "ShmemHugePages:        0 kB\n",
            "ShmemPmdMapped:        0 kB\n",
            "HugePages_Total:       0\n",
            "HugePages_Free:        0\n",
            "HugePages_Rsvd:        0\n",
            "HugePages_Surp:        0\n",
            "Hugepagesize:       2048 kB\n",
            "DirectMap4k:       92148 kB\n",
            "DirectMap2M:     5150720 kB\n",
            "DirectMap1G:    10485760 kB\n"
          ],
          "name": "stdout"
        }
      ]
    },
    {
      "cell_type": "code",
      "metadata": {
        "id": "pLFLzv3980HH",
        "colab_type": "code",
        "outputId": "f92d7c46-ae45-45f9-e6eb-0714655442ff",
        "colab": {
          "resources": {
            "http://localhost:8080/nbextensions/google.colab/files.js": {
              "data": "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",
              "ok": true,
              "headers": [
                [
                  "content-type",
                  "application/javascript"
                ]
              ],
              "status": 200,
              "status_text": ""
            }
          },
          "base_uri": "https://localhost:8080/",
          "height": 74
        }
      },
      "source": [
        "from google.colab import files\n",
        "uploaded = files.upload()\n",
        "!ls"
      ],
      "execution_count": 0,
      "outputs": [
        {
          "output_type": "display_data",
          "data": {
            "text/html": [
              "\n",
              "     <input type=\"file\" id=\"files-0fd8e8e2-2ae2-4ce9-accb-d2b1d43b5eb8\" name=\"files[]\" multiple disabled />\n",
              "     <output id=\"result-0fd8e8e2-2ae2-4ce9-accb-d2b1d43b5eb8\">\n",
              "      Upload widget is only available when the cell has been executed in the\n",
              "      current browser session. Please rerun this cell to enable.\n",
              "      </output>\n",
              "      <script src=\"/nbextensions/google.colab/files.js\"></script> "
            ],
            "text/plain": [
              "<IPython.core.display.HTML object>"
            ]
          },
          "metadata": {
            "tags": []
          }
        },
        {
          "output_type": "stream",
          "text": [
            "Saving dataset.csv to dataset.csv\n"
          ],
          "name": "stdout"
        }
      ]
    },
    {
      "cell_type": "code",
      "metadata": {
        "id": "E-n6x6qKsEeU",
        "colab_type": "code",
        "colab": {}
      },
      "source": [
        "!pip install tldextract"
      ],
      "execution_count": 0,
      "outputs": []
    },
    {
      "cell_type": "code",
      "metadata": {
        "id": "rYUcRT09p1uH",
        "colab_type": "code",
        "colab": {}
      },
      "source": [
        "import os\n",
        "import sys\n",
        "import re\n",
        "import matplotlib\n",
        "import pandas as pd\n",
        "import numpy as np\n",
        "from os.path import splitext\n",
        "import ipaddress as ip\n",
        "import tldextract\n",
        "#import whois\n",
        "import datetime\n",
        "from urllib.parse import urlparse"
      ],
      "execution_count": 0,
      "outputs": []
    },
    {
      "cell_type": "code",
      "metadata": {
        "id": "OHsROz8gp1_t",
        "colab_type": "code",
        "colab": {}
      },
      "source": [
        "Suspicious_TLD=['zip','cricket','link','work','party','gq','kim','country','science','tk']\n",
        "Suspicious_Domain=['luckytime.co.kr','mattfoll.eu.interia.pl','trafficholder.com','dl.baixaki.com.br','bembed.redtube.comr','tags.expo9.exponential.com','deepspacer.com','funad.co.kr','trafficconverter.biz']"
      ],
      "execution_count": 0,
      "outputs": []
    },
    {
      "cell_type": "code",
      "metadata": {
        "id": "nQygbERyp2kA",
        "colab_type": "code",
        "outputId": "a4ac3e13-9f9d-496a-ce82-ba4a9a59330b",
        "colab": {
          "base_uri": "https://localhost:8080/",
          "height": 204
        }
      },
      "source": [
        "df = pd.read_csv(\"dataset.csv\")#urldata (2)\n",
        "#df=df.sample(frac=1)\n",
        "df = df.sample(frac=1).reset_index(drop=True)\n",
        "df.head()"
      ],
      "execution_count": 0,
      "outputs": [
        {
          "output_type": "execute_result",
          "data": {
            "text/html": [
              "<div>\n",
              "<style scoped>\n",
              "    .dataframe tbody tr th:only-of-type {\n",
              "        vertical-align: middle;\n",
              "    }\n",
              "\n",
              "    .dataframe tbody tr th {\n",
              "        vertical-align: top;\n",
              "    }\n",
              "\n",
              "    .dataframe thead th {\n",
              "        text-align: right;\n",
              "    }\n",
              "</style>\n",
              "<table border=\"1\" class=\"dataframe\">\n",
              "  <thead>\n",
              "    <tr style=\"text-align: right;\">\n",
              "      <th></th>\n",
              "      <th>URL</th>\n",
              "      <th>Lable</th>\n",
              "    </tr>\n",
              "  </thead>\n",
              "  <tbody>\n",
              "    <tr>\n",
              "      <th>0</th>\n",
              "      <td>http://pager12.tripod.com/page/</td>\n",
              "      <td>1</td>\n",
              "    </tr>\n",
              "    <tr>\n",
              "      <th>1</th>\n",
              "      <td>http://www.fpif.org/</td>\n",
              "      <td>0</td>\n",
              "    </tr>\n",
              "    <tr>\n",
              "      <th>2</th>\n",
              "      <td>http://www.mcfcforum.com/</td>\n",
              "      <td>0</td>\n",
              "    </tr>\n",
              "    <tr>\n",
              "      <th>3</th>\n",
              "      <td>http://elmwoodinn.com/</td>\n",
              "      <td>0</td>\n",
              "    </tr>\n",
              "    <tr>\n",
              "      <th>4</th>\n",
              "      <td>http://paypal.com.webbapps-limited-resolve-acc...</td>\n",
              "      <td>1</td>\n",
              "    </tr>\n",
              "  </tbody>\n",
              "</table>\n",
              "</div>"
            ],
            "text/plain": [
              "                                                 URL  Lable\n",
              "0                    http://pager12.tripod.com/page/      1\n",
              "1                               http://www.fpif.org/      0\n",
              "2                          http://www.mcfcforum.com/      0\n",
              "3                             http://elmwoodinn.com/      0\n",
              "4  http://paypal.com.webbapps-limited-resolve-acc...      1"
            ]
          },
          "metadata": {
            "tags": []
          },
          "execution_count": 7
        }
      ]
    },
    {
      "cell_type": "code",
      "metadata": {
        "id": "2M0xaU03isfy",
        "colab_type": "code",
        "outputId": "a50a2770-5574-4b75-defd-8a3b2c824676",
        "colab": {
          "base_uri": "https://localhost:8080/",
          "height": 85
        }
      },
      "source": [
        "df.groupby(df['Lable']).size()"
      ],
      "execution_count": 0,
      "outputs": [
        {
          "output_type": "execute_result",
          "data": {
            "text/plain": [
              "Lable\n",
              "0    3494\n",
              "1    3536\n",
              "dtype: int64"
            ]
          },
          "metadata": {
            "tags": []
          },
          "execution_count": 8
        }
      ]
    },
    {
      "cell_type": "code",
      "metadata": {
        "id": "KfOkxbmAh6CP",
        "colab_type": "code",
        "colab": {}
      },
      "source": [
        "df1=df.sample(frac=0.05, random_state=990)"
      ],
      "execution_count": 0,
      "outputs": []
    },
    {
      "cell_type": "code",
      "metadata": {
        "id": "VQxSJS9ah6M6",
        "colab_type": "code",
        "outputId": "3724fd5d-68ee-4699-9525-0b0870ea6f35",
        "colab": {
          "base_uri": "https://localhost:8080/",
          "height": 34
        }
      },
      "source": [
        "len(df1)"
      ],
      "execution_count": 0,
      "outputs": [
        {
          "output_type": "execute_result",
          "data": {
            "text/plain": [
              "352"
            ]
          },
          "metadata": {
            "tags": []
          },
          "execution_count": 14
        }
      ]
    },
    {
      "cell_type": "code",
      "metadata": {
        "id": "mVfrcSKxh6JT",
        "colab_type": "code",
        "colab": {}
      },
      "source": [
        ""
      ],
      "execution_count": 0,
      "outputs": []
    },
    {
      "cell_type": "code",
      "metadata": {
        "id": "9lyz2I82grB8",
        "colab_type": "code",
        "outputId": "ac180174-e6fc-43bc-90a6-695e1169030a",
        "colab": {
          "base_uri": "https://localhost:8080/",
          "height": 85
        }
      },
      "source": [
        "df1.groupby(df['Lable']).size()"
      ],
      "execution_count": 0,
      "outputs": [
        {
          "output_type": "execute_result",
          "data": {
            "text/plain": [
              "Lable\n",
              "0    203\n",
              "1    149\n",
              "dtype: int64"
            ]
          },
          "metadata": {
            "tags": []
          },
          "execution_count": 15
        }
      ]
    },
    {
      "cell_type": "code",
      "metadata": {
        "id": "7hIB83DXp3Ha",
        "colab_type": "code",
        "colab": {}
      },
      "source": [
        "df1['label'].loc[df1['Lable'] == 'good'] = 0\n",
        "df1['label'].loc[df1['Lable'] == 'bad'] = 1"
      ],
      "execution_count": 0,
      "outputs": []
    },
    {
      "cell_type": "code",
      "metadata": {
        "id": "_hjFV5QOsOwc",
        "colab_type": "code",
        "outputId": "84f0b65d-1cb2-4b8e-85b1-074ae641498b",
        "colab": {
          "base_uri": "https://localhost:8080/",
          "height": 204
        }
      },
      "source": [
        "df1.head()"
      ],
      "execution_count": 0,
      "outputs": [
        {
          "output_type": "execute_result",
          "data": {
            "text/html": [
              "<div>\n",
              "<style scoped>\n",
              "    .dataframe tbody tr th:only-of-type {\n",
              "        vertical-align: middle;\n",
              "    }\n",
              "\n",
              "    .dataframe tbody tr th {\n",
              "        vertical-align: top;\n",
              "    }\n",
              "\n",
              "    .dataframe thead th {\n",
              "        text-align: right;\n",
              "    }\n",
              "</style>\n",
              "<table border=\"1\" class=\"dataframe\">\n",
              "  <thead>\n",
              "    <tr style=\"text-align: right;\">\n",
              "      <th></th>\n",
              "      <th>url</th>\n",
              "      <th>label</th>\n",
              "    </tr>\n",
              "  </thead>\n",
              "  <tbody>\n",
              "    <tr>\n",
              "      <th>1882</th>\n",
              "      <td>movies.msn.com/movies/movie/jacob-two-two-anim...</td>\n",
              "      <td>0</td>\n",
              "    </tr>\n",
              "    <tr>\n",
              "      <th>120494</th>\n",
              "      <td>boinobrecarnes.com.br/wp-admin/user/</td>\n",
              "      <td>1</td>\n",
              "    </tr>\n",
              "    <tr>\n",
              "      <th>388855</th>\n",
              "      <td>thecanadianencyclopedia.com/index.cfm?PgNm=TCE...</td>\n",
              "      <td>0</td>\n",
              "    </tr>\n",
              "    <tr>\n",
              "      <th>364603</th>\n",
              "      <td>yellowpages.ca/bus/Quebec/Montreal/Centre-Hosp...</td>\n",
              "      <td>0</td>\n",
              "    </tr>\n",
              "    <tr>\n",
              "      <th>396796</th>\n",
              "      <td>facebook.com/pages/Nikki-Yanofsky/335188996411</td>\n",
              "      <td>0</td>\n",
              "    </tr>\n",
              "  </tbody>\n",
              "</table>\n",
              "</div>"
            ],
            "text/plain": [
              "                                                      url  label\n",
              "1882    movies.msn.com/movies/movie/jacob-two-two-anim...      0\n",
              "120494               boinobrecarnes.com.br/wp-admin/user/      1\n",
              "388855  thecanadianencyclopedia.com/index.cfm?PgNm=TCE...      0\n",
              "364603  yellowpages.ca/bus/Quebec/Montreal/Centre-Hosp...      0\n",
              "396796     facebook.com/pages/Nikki-Yanofsky/335188996411      0"
            ]
          },
          "metadata": {
            "tags": []
          },
          "execution_count": 47
        }
      ]
    },
    {
      "cell_type": "code",
      "metadata": {
        "id": "Yy0RE1w4p3Y_",
        "colab_type": "code",
        "colab": {}
      },
      "source": [
        "def countdots(url):  \n",
        "    return url.count('.')\n",
        "def countdelim(url):\n",
        "    count = 0\n",
        "    delim=[';','_','?','=','&']\n",
        "    for each in url:\n",
        "        if each in delim:\n",
        "            count = count + 1\n",
        "    \n",
        "    return count\n",
        "import ipaddress as ip #works only in python 3\n",
        "\n",
        "def isip(uri):\n",
        "    try:\n",
        "        if ip.ip_address(uri):\n",
        "            return 1\n",
        "    except:\n",
        "        return 0\n",
        "def isPresentHyphen(url):\n",
        "    return url.count('-')\n",
        "def isPresentAt(url):\n",
        "    return url.count('@')\n",
        "def isPresentDSlash(url):\n",
        "    return url.count('//')\n",
        "def countSubDir(url):\n",
        "    return url.count('/')\n",
        "def get_ext(url):\n",
        "    \"\"\"Return the filename extension from url, or ''.\"\"\"\n",
        "    \n",
        "    root, ext = splitext(url)\n",
        "    return ext\n",
        "def countSubDomain(subdomain):\n",
        "    if not subdomain:\n",
        "        return 0\n",
        "    else:\n",
        "        return len(subdomain.split('.'))\n",
        "def countQueries(query):\n",
        "    if not query:\n",
        "        return 0\n",
        "    else:\n",
        "        return len(query.split('&'))\n"
      ],
      "execution_count": 0,
      "outputs": []
    },
    {
      "cell_type": "code",
      "metadata": {
        "id": "ZLfY49PKp3kq",
        "colab_type": "code",
        "colab": {}
      },
      "source": [
        "from urllib.parse import urlparse\n",
        "import tldextract\n",
        "def getFeatures(url, label): \n",
        "    result = []\n",
        "    url = str(url)\n",
        "    \n",
        "    #add the url to feature set\n",
        "    result.append(url)\n",
        "    \n",
        "    #parse the URL and extract the domain information\n",
        "    path = urlparse(url)\n",
        "    ext = tldextract.extract(url)\n",
        "    \n",
        "    #counting number of dots in subdomain    \n",
        "    result.append(countdots(ext.subdomain))\n",
        "    \n",
        "    #checking hyphen in domain   \n",
        "    result.append(isPresentHyphen(path.netloc))\n",
        "    \n",
        "    #length of URL    \n",
        "    result.append(len(url))\n",
        "    \n",
        "    #checking @ in the url    \n",
        "    result.append(isPresentAt(path.netloc))\n",
        "    \n",
        "    #checking presence of double slash    \n",
        "    result.append(isPresentDSlash(path.path))\n",
        "    \n",
        "    #Count number of subdir    \n",
        "    result.append(countSubDir(path.path))\n",
        "    \n",
        "    #number of sub domain    \n",
        "    result.append(countSubDomain(ext.subdomain))\n",
        "    \n",
        "    #length of domain name    \n",
        "    result.append(len(path.netloc))\n",
        "    \n",
        "    #count number of queries    \n",
        "    result.append(len(path.query))\n",
        "    \n",
        "    #Adding domain information\n",
        "    \n",
        "    #if IP address is being used as a URL     \n",
        "    result.append(isip(ext.domain))\n",
        "    \n",
        "    #presence of Suspicious_TLD\n",
        "    result.append(1 if ext.suffix in Suspicious_TLD else 0)\n",
        "    \n",
        "    #presence of suspicious domain\n",
        "    result.append(1 if '.'.join(ext[1:]) in Suspicious_Domain else 0 )\n",
        "    result.append(str(label))\n",
        "    return result"
      ],
      "execution_count": 0,
      "outputs": []
    },
    {
      "cell_type": "code",
      "metadata": {
        "id": "gxGrJBoap3wM",
        "colab_type": "code",
        "colab": {}
      },
      "source": [
        "featureSet = pd.DataFrame(columns=('url','no of dots','presence of hyphen','len of url','presence of at',\\\n",
        "'presence of double slash','no of subdir','no of subdomain','len of domain','no of queries','is IP','presence of Suspicious_TLD',\\\n",
        "'presence of suspicious domain','label'))\n",
        " "
      ],
      "execution_count": 0,
      "outputs": []
    },
    {
      "cell_type": "code",
      "metadata": {
        "id": "-aC5yvHUPU4r",
        "colab_type": "code",
        "outputId": "7b27472a-97eb-45ab-e2ff-bf63d27da310",
        "colab": {
          "base_uri": "https://localhost:8080/",
          "height": 34
        }
      },
      "source": [
        "len(df)"
      ],
      "execution_count": 0,
      "outputs": [
        {
          "output_type": "execute_result",
          "data": {
            "text/plain": [
              "7030"
            ]
          },
          "metadata": {
            "tags": []
          },
          "execution_count": 12
        }
      ]
    },
    {
      "cell_type": "code",
      "metadata": {
        "id": "GN6mmha9lGSr",
        "colab_type": "code",
        "colab": {}
      },
      "source": [
        "df1=df1.sample(frac=1).reset_index(drop=True)"
      ],
      "execution_count": 0,
      "outputs": []
    },
    {
      "cell_type": "code",
      "metadata": {
        "id": "rdEi0ReFp4mZ",
        "colab_type": "code",
        "colab": {}
      },
      "source": [
        "for i in range(len(df)):\n",
        "    features = getFeatures(df[\"URL\"].loc[i], df[\"Lable\"].loc[i])    \n",
        "    featureSet.loc[i] = features "
      ],
      "execution_count": 0,
      "outputs": []
    },
    {
      "cell_type": "code",
      "metadata": {
        "id": "cjG1NihJp4if",
        "colab_type": "code",
        "outputId": "460fee5e-5286-4c10-93e9-c640e5583699",
        "colab": {
          "base_uri": "https://localhost:8080/",
          "height": 255
        }
      },
      "source": [
        "featureSet.head()"
      ],
      "execution_count": 0,
      "outputs": [
        {
          "output_type": "execute_result",
          "data": {
            "text/html": [
              "<div>\n",
              "<style scoped>\n",
              "    .dataframe tbody tr th:only-of-type {\n",
              "        vertical-align: middle;\n",
              "    }\n",
              "\n",
              "    .dataframe tbody tr th {\n",
              "        vertical-align: top;\n",
              "    }\n",
              "\n",
              "    .dataframe thead th {\n",
              "        text-align: right;\n",
              "    }\n",
              "</style>\n",
              "<table border=\"1\" class=\"dataframe\">\n",
              "  <thead>\n",
              "    <tr style=\"text-align: right;\">\n",
              "      <th></th>\n",
              "      <th>url</th>\n",
              "      <th>no of dots</th>\n",
              "      <th>presence of hyphen</th>\n",
              "      <th>len of url</th>\n",
              "      <th>presence of at</th>\n",
              "      <th>presence of double slash</th>\n",
              "      <th>no of subdir</th>\n",
              "      <th>no of subdomain</th>\n",
              "      <th>len of domain</th>\n",
              "      <th>no of queries</th>\n",
              "      <th>is IP</th>\n",
              "      <th>presence of Suspicious_TLD</th>\n",
              "      <th>presence of suspicious domain</th>\n",
              "      <th>label</th>\n",
              "    </tr>\n",
              "  </thead>\n",
              "  <tbody>\n",
              "    <tr>\n",
              "      <th>0</th>\n",
              "      <td>http://pager12.tripod.com/page/</td>\n",
              "      <td>0</td>\n",
              "      <td>0</td>\n",
              "      <td>31</td>\n",
              "      <td>0</td>\n",
              "      <td>0</td>\n",
              "      <td>2</td>\n",
              "      <td>1</td>\n",
              "      <td>18</td>\n",
              "      <td>0</td>\n",
              "      <td>0</td>\n",
              "      <td>0</td>\n",
              "      <td>0</td>\n",
              "      <td>1</td>\n",
              "    </tr>\n",
              "    <tr>\n",
              "      <th>1</th>\n",
              "      <td>http://www.fpif.org/</td>\n",
              "      <td>0</td>\n",
              "      <td>0</td>\n",
              "      <td>20</td>\n",
              "      <td>0</td>\n",
              "      <td>0</td>\n",
              "      <td>1</td>\n",
              "      <td>1</td>\n",
              "      <td>12</td>\n",
              "      <td>0</td>\n",
              "      <td>0</td>\n",
              "      <td>0</td>\n",
              "      <td>0</td>\n",
              "      <td>0</td>\n",
              "    </tr>\n",
              "    <tr>\n",
              "      <th>2</th>\n",
              "      <td>http://www.mcfcforum.com/</td>\n",
              "      <td>0</td>\n",
              "      <td>0</td>\n",
              "      <td>25</td>\n",
              "      <td>0</td>\n",
              "      <td>0</td>\n",
              "      <td>1</td>\n",
              "      <td>1</td>\n",
              "      <td>17</td>\n",
              "      <td>0</td>\n",
              "      <td>0</td>\n",
              "      <td>0</td>\n",
              "      <td>0</td>\n",
              "      <td>0</td>\n",
              "    </tr>\n",
              "    <tr>\n",
              "      <th>3</th>\n",
              "      <td>http://elmwoodinn.com/</td>\n",
              "      <td>0</td>\n",
              "      <td>0</td>\n",
              "      <td>22</td>\n",
              "      <td>0</td>\n",
              "      <td>0</td>\n",
              "      <td>1</td>\n",
              "      <td>0</td>\n",
              "      <td>14</td>\n",
              "      <td>0</td>\n",
              "      <td>0</td>\n",
              "      <td>0</td>\n",
              "      <td>0</td>\n",
              "      <td>0</td>\n",
              "    </tr>\n",
              "    <tr>\n",
              "      <th>4</th>\n",
              "      <td>http://paypal.com.webbapps-limited-resolve-acc...</td>\n",
              "      <td>4</td>\n",
              "      <td>4</td>\n",
              "      <td>115</td>\n",
              "      <td>0</td>\n",
              "      <td>0</td>\n",
              "      <td>4</td>\n",
              "      <td>5</td>\n",
              "      <td>85</td>\n",
              "      <td>0</td>\n",
              "      <td>0</td>\n",
              "      <td>0</td>\n",
              "      <td>0</td>\n",
              "      <td>1</td>\n",
              "    </tr>\n",
              "  </tbody>\n",
              "</table>\n",
              "</div>"
            ],
            "text/plain": [
              "                                                 url no of dots  \\\n",
              "0                    http://pager12.tripod.com/page/          0   \n",
              "1                               http://www.fpif.org/          0   \n",
              "2                          http://www.mcfcforum.com/          0   \n",
              "3                             http://elmwoodinn.com/          0   \n",
              "4  http://paypal.com.webbapps-limited-resolve-acc...          4   \n",
              "\n",
              "  presence of hyphen len of url presence of at presence of double slash  \\\n",
              "0                  0         31              0                        0   \n",
              "1                  0         20              0                        0   \n",
              "2                  0         25              0                        0   \n",
              "3                  0         22              0                        0   \n",
              "4                  4        115              0                        0   \n",
              "\n",
              "  no of subdir no of subdomain len of domain no of queries is IP  \\\n",
              "0            2               1            18             0     0   \n",
              "1            1               1            12             0     0   \n",
              "2            1               1            17             0     0   \n",
              "3            1               0            14             0     0   \n",
              "4            4               5            85             0     0   \n",
              "\n",
              "  presence of Suspicious_TLD presence of suspicious domain label  \n",
              "0                          0                             0     1  \n",
              "1                          0                             0     0  \n",
              "2                          0                             0     0  \n",
              "3                          0                             0     0  \n",
              "4                          0                             0     1  "
            ]
          },
          "metadata": {
            "tags": []
          },
          "execution_count": 14
        }
      ]
    },
    {
      "cell_type": "code",
      "metadata": {
        "id": "o7s4-3IkQZTv",
        "colab_type": "code",
        "outputId": "31135c07-6a04-4231-d154-064113b14828",
        "colab": {
          "base_uri": "https://localhost:8080/",
          "height": 68
        }
      },
      "source": [
        "!pip install --upgrade scikit-learn"
      ],
      "execution_count": 0,
      "outputs": [
        {
          "output_type": "stream",
          "text": [
            "Requirement already up-to-date: scikit-learn in /usr/local/lib/python3.6/dist-packages (0.20.3)\n",
            "Requirement already satisfied, skipping upgrade: numpy>=1.8.2 in /usr/local/lib/python3.6/dist-packages (from scikit-learn) (1.14.6)\n",
            "Requirement already satisfied, skipping upgrade: scipy>=0.13.3 in /usr/local/lib/python3.6/dist-packages (from scikit-learn) (1.1.0)\n"
          ],
          "name": "stdout"
        }
      ]
    },
    {
      "cell_type": "code",
      "metadata": {
        "id": "Do1yclUQp4e4",
        "colab_type": "code",
        "colab": {}
      },
      "source": [
        "import sklearn.ensemble as ek\n",
        "#from sklearn import cross_validation, tree, linear_model\n",
        "from sklearn.model_selection import train_test_split\n",
        "from sklearn.feature_selection import SelectFromModel\n",
        "from sklearn.externals import joblib\n",
        "from sklearn.naive_bayes import GaussianNB\n",
        "from sklearn.metrics import confusion_matrix\n",
        "from sklearn.pipeline import make_pipeline\n",
        "from sklearn import preprocessing\n",
        "from sklearn import svm\n",
        "from sklearn.linear_model import LogisticRegression"
      ],
      "execution_count": 0,
      "outputs": []
    },
    {
      "cell_type": "code",
      "metadata": {
        "id": "xaRCvf1wp4bE",
        "colab_type": "code",
        "colab": {}
      },
      "source": [
        "X = featureSet.drop(['url','label'],axis=1).values\n",
        "y = featureSet['label'].values"
      ],
      "execution_count": 0,
      "outputs": []
    },
    {
      "cell_type": "code",
      "metadata": {
        "id": "y2LZkEjkp4XX",
        "colab_type": "code",
        "colab": {}
      },
      "source": [
        "X_train, X_test, y_train, y_test = train_test_split(X, y ,test_size=0.2)"
      ],
      "execution_count": 0,
      "outputs": []
    },
    {
      "cell_type": "code",
      "metadata": {
        "id": "a_qfNkZXp4UC",
        "colab_type": "code",
        "colab": {}
      },
      "source": [
        "from math import sin, cos, sqrt, atan2, radians\n",
        "from tqdm import tqdm\n",
        "from sklearn.neighbors import KNeighborsClassifier\n",
        "from sklearn.metrics import mean_squared_error\n",
        "import lightgbm as lgb\n",
        "from sklearn.model_selection import train_test_split"
      ],
      "execution_count": 0,
      "outputs": []
    },
    {
      "cell_type": "code",
      "metadata": {
        "id": "v_tJselDp4Qv",
        "colab_type": "code",
        "colab": {}
      },
      "source": [
        "gbm = lgb.LGBMRegressor(objective = 'regression',  \n",
        "                            max_depth = 3,\n",
        "                            colsample_bytre = 0.8,\n",
        "                            subsample = 0.8, \n",
        "                            learning_rate = 0.1,\n",
        "                            n_estimators = 300)"
      ],
      "execution_count": 0,
      "outputs": []
    },
    {
      "cell_type": "code",
      "metadata": {
        "id": "-l1G_Z_dp4Mt",
        "colab_type": "code",
        "outputId": "23b94bc9-8591-47de-b8d1-fa721c7ea880",
        "colab": {
          "base_uri": "https://localhost:8080/",
          "height": 5049
        }
      },
      "source": [
        "gbm.fit(X_train, y_train, eval_set=[(X_test, y_test)], eval_metric='rmse', early_stopping_rounds=5)"
      ],
      "execution_count": 0,
      "outputs": [
        {
          "output_type": "stream",
          "text": [
            "[1]\tvalid_0's rmse: 0.471125\tvalid_0's l2: 0.221958\n",
            "Training until validation scores don't improve for 5 rounds.\n",
            "[2]\tvalid_0's rmse: 0.446594\tvalid_0's l2: 0.199446\n",
            "[3]\tvalid_0's rmse: 0.425342\tvalid_0's l2: 0.180916\n",
            "[4]\tvalid_0's rmse: 0.407641\tvalid_0's l2: 0.166171\n",
            "[5]\tvalid_0's rmse: 0.392738\tvalid_0's l2: 0.154243\n",
            "[6]\tvalid_0's rmse: 0.379649\tvalid_0's l2: 0.144134\n",
            "[7]\tvalid_0's rmse: 0.368938\tvalid_0's l2: 0.136115\n",
            "[8]\tvalid_0's rmse: 0.35952\tvalid_0's l2: 0.129255\n",
            "[9]\tvalid_0's rmse: 0.350752\tvalid_0's l2: 0.123027\n",
            "[10]\tvalid_0's rmse: 0.344357\tvalid_0's l2: 0.118582\n",
            "[11]\tvalid_0's rmse: 0.338443\tvalid_0's l2: 0.114544\n",
            "[12]\tvalid_0's rmse: 0.332473\tvalid_0's l2: 0.110538\n",
            "[13]\tvalid_0's rmse: 0.327811\tvalid_0's l2: 0.10746\n",
            "[14]\tvalid_0's rmse: 0.324275\tvalid_0's l2: 0.105154\n",
            "[15]\tvalid_0's rmse: 0.321091\tvalid_0's l2: 0.1031\n",
            "[16]\tvalid_0's rmse: 0.31804\tvalid_0's l2: 0.101149\n",
            "[17]\tvalid_0's rmse: 0.315815\tvalid_0's l2: 0.0997389\n",
            "[18]\tvalid_0's rmse: 0.313639\tvalid_0's l2: 0.0983694\n",
            "[19]\tvalid_0's rmse: 0.311379\tvalid_0's l2: 0.0969566\n",
            "[20]\tvalid_0's rmse: 0.309523\tvalid_0's l2: 0.0958047\n",
            "[21]\tvalid_0's rmse: 0.30818\tvalid_0's l2: 0.0949749\n",
            "[22]\tvalid_0's rmse: 0.307096\tvalid_0's l2: 0.094308\n",
            "[23]\tvalid_0's rmse: 0.305391\tvalid_0's l2: 0.0932638\n",
            "[24]\tvalid_0's rmse: 0.304562\tvalid_0's l2: 0.0927581\n",
            "[25]\tvalid_0's rmse: 0.303769\tvalid_0's l2: 0.0922755\n",
            "[26]\tvalid_0's rmse: 0.303239\tvalid_0's l2: 0.0919539\n",
            "[27]\tvalid_0's rmse: 0.302751\tvalid_0's l2: 0.0916583\n",
            "[28]\tvalid_0's rmse: 0.302396\tvalid_0's l2: 0.0914432\n",
            "[29]\tvalid_0's rmse: 0.302056\tvalid_0's l2: 0.0912378\n",
            "[30]\tvalid_0's rmse: 0.301591\tvalid_0's l2: 0.0909573\n",
            "[31]\tvalid_0's rmse: 0.300919\tvalid_0's l2: 0.0905525\n",
            "[32]\tvalid_0's rmse: 0.300671\tvalid_0's l2: 0.0904033\n",
            "[33]\tvalid_0's rmse: 0.300599\tvalid_0's l2: 0.0903595\n",
            "[34]\tvalid_0's rmse: 0.300293\tvalid_0's l2: 0.0901759\n",
            "[35]\tvalid_0's rmse: 0.299768\tvalid_0's l2: 0.0898609\n",
            "[36]\tvalid_0's rmse: 0.2996\tvalid_0's l2: 0.0897603\n",
            "[37]\tvalid_0's rmse: 0.299371\tvalid_0's l2: 0.0896228\n",
            "[38]\tvalid_0's rmse: 0.299154\tvalid_0's l2: 0.0894933\n",
            "[39]\tvalid_0's rmse: 0.299058\tvalid_0's l2: 0.0894356\n",
            "[40]\tvalid_0's rmse: 0.298976\tvalid_0's l2: 0.0893865\n",
            "[41]\tvalid_0's rmse: 0.298865\tvalid_0's l2: 0.0893204\n",
            "[42]\tvalid_0's rmse: 0.298834\tvalid_0's l2: 0.0893021\n",
            "[43]\tvalid_0's rmse: 0.298756\tvalid_0's l2: 0.089255\n",
            "[44]\tvalid_0's rmse: 0.298631\tvalid_0's l2: 0.0891806\n",
            "[45]\tvalid_0's rmse: 0.298594\tvalid_0's l2: 0.0891587\n",
            "[46]\tvalid_0's rmse: 0.298497\tvalid_0's l2: 0.0891005\n",
            "[47]\tvalid_0's rmse: 0.298466\tvalid_0's l2: 0.0890817\n",
            "[48]\tvalid_0's rmse: 0.298349\tvalid_0's l2: 0.0890119\n",
            "[49]\tvalid_0's rmse: 0.298318\tvalid_0's l2: 0.0889939\n",
            "[50]\tvalid_0's rmse: 0.297776\tvalid_0's l2: 0.0886703\n",
            "[51]\tvalid_0's rmse: 0.297686\tvalid_0's l2: 0.0886173\n",
            "[52]\tvalid_0's rmse: 0.297613\tvalid_0's l2: 0.0885737\n",
            "[53]\tvalid_0's rmse: 0.297318\tvalid_0's l2: 0.088398\n",
            "[54]\tvalid_0's rmse: 0.2973\tvalid_0's l2: 0.0883871\n",
            "[55]\tvalid_0's rmse: 0.297095\tvalid_0's l2: 0.0882656\n",
            "[56]\tvalid_0's rmse: 0.297041\tvalid_0's l2: 0.0882336\n",
            "[57]\tvalid_0's rmse: 0.296717\tvalid_0's l2: 0.0880409\n",
            "[58]\tvalid_0's rmse: 0.296667\tvalid_0's l2: 0.0880115\n",
            "[59]\tvalid_0's rmse: 0.296706\tvalid_0's l2: 0.0880347\n",
            "[60]\tvalid_0's rmse: 0.295336\tvalid_0's l2: 0.0872231\n",
            "[61]\tvalid_0's rmse: 0.295209\tvalid_0's l2: 0.0871485\n",
            "[62]\tvalid_0's rmse: 0.295153\tvalid_0's l2: 0.0871154\n",
            "[63]\tvalid_0's rmse: 0.295018\tvalid_0's l2: 0.0870354\n",
            "[64]\tvalid_0's rmse: 0.294601\tvalid_0's l2: 0.0867899\n",
            "[65]\tvalid_0's rmse: 0.294529\tvalid_0's l2: 0.0867472\n",
            "[66]\tvalid_0's rmse: 0.294509\tvalid_0's l2: 0.0867357\n",
            "[67]\tvalid_0's rmse: 0.29427\tvalid_0's l2: 0.0865948\n",
            "[68]\tvalid_0's rmse: 0.294112\tvalid_0's l2: 0.0865019\n",
            "[69]\tvalid_0's rmse: 0.293573\tvalid_0's l2: 0.0861849\n",
            "[70]\tvalid_0's rmse: 0.293625\tvalid_0's l2: 0.0862156\n",
            "[71]\tvalid_0's rmse: 0.293254\tvalid_0's l2: 0.0859977\n",
            "[72]\tvalid_0's rmse: 0.292921\tvalid_0's l2: 0.0858025\n",
            "[73]\tvalid_0's rmse: 0.292218\tvalid_0's l2: 0.0853912\n",
            "[74]\tvalid_0's rmse: 0.292087\tvalid_0's l2: 0.0853146\n",
            "[75]\tvalid_0's rmse: 0.291926\tvalid_0's l2: 0.085221\n",
            "[76]\tvalid_0's rmse: 0.291463\tvalid_0's l2: 0.0849509\n",
            "[77]\tvalid_0's rmse: 0.290593\tvalid_0's l2: 0.0844445\n",
            "[78]\tvalid_0's rmse: 0.290353\tvalid_0's l2: 0.084305\n",
            "[79]\tvalid_0's rmse: 0.290251\tvalid_0's l2: 0.0842454\n",
            "[80]\tvalid_0's rmse: 0.28981\tvalid_0's l2: 0.0839897\n",
            "[81]\tvalid_0's rmse: 0.289565\tvalid_0's l2: 0.0838478\n",
            "[82]\tvalid_0's rmse: 0.289446\tvalid_0's l2: 0.083779\n",
            "[83]\tvalid_0's rmse: 0.289364\tvalid_0's l2: 0.0837317\n",
            "[84]\tvalid_0's rmse: 0.289129\tvalid_0's l2: 0.0835957\n",
            "[85]\tvalid_0's rmse: 0.288847\tvalid_0's l2: 0.0834326\n",
            "[86]\tvalid_0's rmse: 0.288764\tvalid_0's l2: 0.0833848\n",
            "[87]\tvalid_0's rmse: 0.288696\tvalid_0's l2: 0.0833453\n",
            "[88]\tvalid_0's rmse: 0.288571\tvalid_0's l2: 0.0832735\n",
            "[89]\tvalid_0's rmse: 0.288472\tvalid_0's l2: 0.0832163\n",
            "[90]\tvalid_0's rmse: 0.28844\tvalid_0's l2: 0.0831975\n",
            "[91]\tvalid_0's rmse: 0.288197\tvalid_0's l2: 0.0830572\n",
            "[92]\tvalid_0's rmse: 0.287966\tvalid_0's l2: 0.0829245\n",
            "[93]\tvalid_0's rmse: 0.287935\tvalid_0's l2: 0.0829063\n",
            "[94]\tvalid_0's rmse: 0.287367\tvalid_0's l2: 0.0825796\n",
            "[95]\tvalid_0's rmse: 0.287309\tvalid_0's l2: 0.0825466\n",
            "[96]\tvalid_0's rmse: 0.287136\tvalid_0's l2: 0.082447\n",
            "[97]\tvalid_0's rmse: 0.28712\tvalid_0's l2: 0.082438\n",
            "[98]\tvalid_0's rmse: 0.286882\tvalid_0's l2: 0.0823012\n",
            "[99]\tvalid_0's rmse: 0.28637\tvalid_0's l2: 0.0820079\n",
            "[100]\tvalid_0's rmse: 0.286372\tvalid_0's l2: 0.0820087\n",
            "[101]\tvalid_0's rmse: 0.286363\tvalid_0's l2: 0.0820037\n",
            "[102]\tvalid_0's rmse: 0.286358\tvalid_0's l2: 0.0820009\n",
            "[103]\tvalid_0's rmse: 0.286323\tvalid_0's l2: 0.0819807\n",
            "[104]\tvalid_0's rmse: 0.286325\tvalid_0's l2: 0.0819818\n",
            "[105]\tvalid_0's rmse: 0.286204\tvalid_0's l2: 0.0819126\n",
            "[106]\tvalid_0's rmse: 0.286158\tvalid_0's l2: 0.0818866\n",
            "[107]\tvalid_0's rmse: 0.286104\tvalid_0's l2: 0.0818554\n",
            "[108]\tvalid_0's rmse: 0.286019\tvalid_0's l2: 0.0818067\n",
            "[109]\tvalid_0's rmse: 0.285879\tvalid_0's l2: 0.0817266\n",
            "[110]\tvalid_0's rmse: 0.28591\tvalid_0's l2: 0.0817445\n",
            "[111]\tvalid_0's rmse: 0.285184\tvalid_0's l2: 0.0813298\n",
            "[112]\tvalid_0's rmse: 0.285029\tvalid_0's l2: 0.0812417\n",
            "[113]\tvalid_0's rmse: 0.284885\tvalid_0's l2: 0.0811597\n",
            "[114]\tvalid_0's rmse: 0.284693\tvalid_0's l2: 0.0810499\n",
            "[115]\tvalid_0's rmse: 0.284462\tvalid_0's l2: 0.0809188\n",
            "[116]\tvalid_0's rmse: 0.284411\tvalid_0's l2: 0.0808898\n",
            "[117]\tvalid_0's rmse: 0.284394\tvalid_0's l2: 0.0808802\n",
            "[118]\tvalid_0's rmse: 0.284366\tvalid_0's l2: 0.0808641\n",
            "[119]\tvalid_0's rmse: 0.284266\tvalid_0's l2: 0.080807\n",
            "[120]\tvalid_0's rmse: 0.284141\tvalid_0's l2: 0.0807362\n",
            "[121]\tvalid_0's rmse: 0.284143\tvalid_0's l2: 0.0807375\n",
            "[122]\tvalid_0's rmse: 0.284086\tvalid_0's l2: 0.0807051\n",
            "[123]\tvalid_0's rmse: 0.284081\tvalid_0's l2: 0.080702\n",
            "[124]\tvalid_0's rmse: 0.283998\tvalid_0's l2: 0.0806549\n",
            "[125]\tvalid_0's rmse: 0.284059\tvalid_0's l2: 0.0806893\n",
            "[126]\tvalid_0's rmse: 0.28407\tvalid_0's l2: 0.0806956\n",
            "[127]\tvalid_0's rmse: 0.284029\tvalid_0's l2: 0.0806723\n",
            "[128]\tvalid_0's rmse: 0.283809\tvalid_0's l2: 0.0805473\n",
            "[129]\tvalid_0's rmse: 0.283513\tvalid_0's l2: 0.0803799\n",
            "[130]\tvalid_0's rmse: 0.283461\tvalid_0's l2: 0.0803502\n",
            "[131]\tvalid_0's rmse: 0.283125\tvalid_0's l2: 0.0801598\n",
            "[132]\tvalid_0's rmse: 0.282997\tvalid_0's l2: 0.0800872\n",
            "[133]\tvalid_0's rmse: 0.282876\tvalid_0's l2: 0.0800187\n",
            "[134]\tvalid_0's rmse: 0.282758\tvalid_0's l2: 0.0799519\n",
            "[135]\tvalid_0's rmse: 0.282753\tvalid_0's l2: 0.079949\n",
            "[136]\tvalid_0's rmse: 0.282484\tvalid_0's l2: 0.0797974\n",
            "[137]\tvalid_0's rmse: 0.282317\tvalid_0's l2: 0.0797031\n",
            "[138]\tvalid_0's rmse: 0.282346\tvalid_0's l2: 0.0797195\n",
            "[139]\tvalid_0's rmse: 0.282308\tvalid_0's l2: 0.0796975\n",
            "[140]\tvalid_0's rmse: 0.28216\tvalid_0's l2: 0.079614\n",
            "[141]\tvalid_0's rmse: 0.28204\tvalid_0's l2: 0.0795464\n",
            "[142]\tvalid_0's rmse: 0.282021\tvalid_0's l2: 0.0795358\n",
            "[143]\tvalid_0's rmse: 0.282019\tvalid_0's l2: 0.079535\n",
            "[144]\tvalid_0's rmse: 0.282016\tvalid_0's l2: 0.0795332\n",
            "[145]\tvalid_0's rmse: 0.281987\tvalid_0's l2: 0.0795167\n",
            "[146]\tvalid_0's rmse: 0.28191\tvalid_0's l2: 0.0794731\n",
            "[147]\tvalid_0's rmse: 0.281925\tvalid_0's l2: 0.0794815\n",
            "[148]\tvalid_0's rmse: 0.281864\tvalid_0's l2: 0.0794472\n",
            "[149]\tvalid_0's rmse: 0.281793\tvalid_0's l2: 0.0794072\n",
            "[150]\tvalid_0's rmse: 0.281643\tvalid_0's l2: 0.0793227\n",
            "[151]\tvalid_0's rmse: 0.281588\tvalid_0's l2: 0.079292\n",
            "[152]\tvalid_0's rmse: 0.281537\tvalid_0's l2: 0.0792634\n",
            "[153]\tvalid_0's rmse: 0.281469\tvalid_0's l2: 0.0792248\n",
            "[154]\tvalid_0's rmse: 0.281531\tvalid_0's l2: 0.0792599\n",
            "[155]\tvalid_0's rmse: 0.281534\tvalid_0's l2: 0.0792614\n",
            "[156]\tvalid_0's rmse: 0.281304\tvalid_0's l2: 0.0791317\n",
            "[157]\tvalid_0's rmse: 0.281192\tvalid_0's l2: 0.0790688\n",
            "[158]\tvalid_0's rmse: 0.281159\tvalid_0's l2: 0.0790503\n",
            "[159]\tvalid_0's rmse: 0.281086\tvalid_0's l2: 0.0790091\n",
            "[160]\tvalid_0's rmse: 0.28107\tvalid_0's l2: 0.0790003\n",
            "[161]\tvalid_0's rmse: 0.280865\tvalid_0's l2: 0.0788852\n",
            "[162]\tvalid_0's rmse: 0.280849\tvalid_0's l2: 0.0788764\n",
            "[163]\tvalid_0's rmse: 0.280866\tvalid_0's l2: 0.0788856\n",
            "[164]\tvalid_0's rmse: 0.280863\tvalid_0's l2: 0.0788842\n",
            "[165]\tvalid_0's rmse: 0.280948\tvalid_0's l2: 0.0789321\n",
            "[166]\tvalid_0's rmse: 0.28082\tvalid_0's l2: 0.07886\n",
            "[167]\tvalid_0's rmse: 0.280767\tvalid_0's l2: 0.07883\n",
            "[168]\tvalid_0's rmse: 0.28074\tvalid_0's l2: 0.078815\n",
            "[169]\tvalid_0's rmse: 0.280569\tvalid_0's l2: 0.0787191\n",
            "[170]\tvalid_0's rmse: 0.280523\tvalid_0's l2: 0.0786931\n",
            "[171]\tvalid_0's rmse: 0.280539\tvalid_0's l2: 0.0787019\n",
            "[172]\tvalid_0's rmse: 0.280509\tvalid_0's l2: 0.0786851\n",
            "[173]\tvalid_0's rmse: 0.280305\tvalid_0's l2: 0.0785711\n",
            "[174]\tvalid_0's rmse: 0.280328\tvalid_0's l2: 0.078584\n",
            "[175]\tvalid_0's rmse: 0.280307\tvalid_0's l2: 0.0785721\n",
            "[176]\tvalid_0's rmse: 0.280263\tvalid_0's l2: 0.0785472\n",
            "[177]\tvalid_0's rmse: 0.280173\tvalid_0's l2: 0.078497\n",
            "[178]\tvalid_0's rmse: 0.280151\tvalid_0's l2: 0.0784847\n",
            "[179]\tvalid_0's rmse: 0.279885\tvalid_0's l2: 0.0783355\n",
            "[180]\tvalid_0's rmse: 0.279898\tvalid_0's l2: 0.0783427\n",
            "[181]\tvalid_0's rmse: 0.279906\tvalid_0's l2: 0.0783472\n",
            "[182]\tvalid_0's rmse: 0.279888\tvalid_0's l2: 0.0783375\n",
            "[183]\tvalid_0's rmse: 0.279858\tvalid_0's l2: 0.0783207\n",
            "[184]\tvalid_0's rmse: 0.2798\tvalid_0's l2: 0.0782879\n",
            "[185]\tvalid_0's rmse: 0.279819\tvalid_0's l2: 0.0782987\n",
            "[186]\tvalid_0's rmse: 0.279828\tvalid_0's l2: 0.0783036\n",
            "[187]\tvalid_0's rmse: 0.279815\tvalid_0's l2: 0.0782963\n",
            "[188]\tvalid_0's rmse: 0.27966\tvalid_0's l2: 0.0782096\n",
            "[189]\tvalid_0's rmse: 0.27955\tvalid_0's l2: 0.0781483\n",
            "[190]\tvalid_0's rmse: 0.279436\tvalid_0's l2: 0.0780842\n",
            "[191]\tvalid_0's rmse: 0.279448\tvalid_0's l2: 0.0780914\n",
            "[192]\tvalid_0's rmse: 0.279396\tvalid_0's l2: 0.0780624\n",
            "[193]\tvalid_0's rmse: 0.27929\tvalid_0's l2: 0.078003\n",
            "[194]\tvalid_0's rmse: 0.279261\tvalid_0's l2: 0.077987\n",
            "[195]\tvalid_0's rmse: 0.279214\tvalid_0's l2: 0.0779602\n",
            "[196]\tvalid_0's rmse: 0.279147\tvalid_0's l2: 0.0779228\n",
            "[197]\tvalid_0's rmse: 0.278899\tvalid_0's l2: 0.0777845\n",
            "[198]\tvalid_0's rmse: 0.278889\tvalid_0's l2: 0.0777788\n",
            "[199]\tvalid_0's rmse: 0.278895\tvalid_0's l2: 0.0777821\n",
            "[200]\tvalid_0's rmse: 0.278907\tvalid_0's l2: 0.077789\n",
            "[201]\tvalid_0's rmse: 0.278775\tvalid_0's l2: 0.0777156\n",
            "[202]\tvalid_0's rmse: 0.278761\tvalid_0's l2: 0.0777077\n",
            "[203]\tvalid_0's rmse: 0.278738\tvalid_0's l2: 0.0776947\n",
            "[204]\tvalid_0's rmse: 0.278748\tvalid_0's l2: 0.0777003\n",
            "[205]\tvalid_0's rmse: 0.278761\tvalid_0's l2: 0.0777078\n",
            "[206]\tvalid_0's rmse: 0.278752\tvalid_0's l2: 0.0777029\n",
            "[207]\tvalid_0's rmse: 0.278713\tvalid_0's l2: 0.0776811\n",
            "[208]\tvalid_0's rmse: 0.278577\tvalid_0's l2: 0.0776051\n",
            "[209]\tvalid_0's rmse: 0.278575\tvalid_0's l2: 0.0776039\n",
            "[210]\tvalid_0's rmse: 0.27837\tvalid_0's l2: 0.0774899\n",
            "[211]\tvalid_0's rmse: 0.278431\tvalid_0's l2: 0.0775237\n",
            "[212]\tvalid_0's rmse: 0.278432\tvalid_0's l2: 0.0775242\n",
            "[213]\tvalid_0's rmse: 0.278336\tvalid_0's l2: 0.0774707\n",
            "[214]\tvalid_0's rmse: 0.278372\tvalid_0's l2: 0.077491\n",
            "[215]\tvalid_0's rmse: 0.278344\tvalid_0's l2: 0.0774754\n",
            "[216]\tvalid_0's rmse: 0.278333\tvalid_0's l2: 0.0774691\n",
            "[217]\tvalid_0's rmse: 0.278125\tvalid_0's l2: 0.0773534\n",
            "[218]\tvalid_0's rmse: 0.278119\tvalid_0's l2: 0.0773503\n",
            "[219]\tvalid_0's rmse: 0.27807\tvalid_0's l2: 0.077323\n",
            "[220]\tvalid_0's rmse: 0.278059\tvalid_0's l2: 0.0773168\n",
            "[221]\tvalid_0's rmse: 0.278048\tvalid_0's l2: 0.0773108\n",
            "[222]\tvalid_0's rmse: 0.27801\tvalid_0's l2: 0.0772898\n",
            "[223]\tvalid_0's rmse: 0.277847\tvalid_0's l2: 0.0771991\n",
            "[224]\tvalid_0's rmse: 0.27784\tvalid_0's l2: 0.0771948\n",
            "[225]\tvalid_0's rmse: 0.27788\tvalid_0's l2: 0.0772172\n",
            "[226]\tvalid_0's rmse: 0.277838\tvalid_0's l2: 0.0771939\n",
            "[227]\tvalid_0's rmse: 0.277792\tvalid_0's l2: 0.0771682\n",
            "[228]\tvalid_0's rmse: 0.277747\tvalid_0's l2: 0.0771436\n",
            "[229]\tvalid_0's rmse: 0.27775\tvalid_0's l2: 0.0771452\n",
            "[230]\tvalid_0's rmse: 0.27772\tvalid_0's l2: 0.0771284\n",
            "[231]\tvalid_0's rmse: 0.277678\tvalid_0's l2: 0.0771053\n",
            "[232]\tvalid_0's rmse: 0.277672\tvalid_0's l2: 0.0771019\n",
            "[233]\tvalid_0's rmse: 0.277643\tvalid_0's l2: 0.0770857\n",
            "[234]\tvalid_0's rmse: 0.277618\tvalid_0's l2: 0.0770715\n",
            "[235]\tvalid_0's rmse: 0.27759\tvalid_0's l2: 0.0770563\n",
            "[236]\tvalid_0's rmse: 0.277526\tvalid_0's l2: 0.0770207\n",
            "[237]\tvalid_0's rmse: 0.27753\tvalid_0's l2: 0.0770231\n",
            "[238]\tvalid_0's rmse: 0.277439\tvalid_0's l2: 0.0769722\n",
            "[239]\tvalid_0's rmse: 0.277411\tvalid_0's l2: 0.0769569\n",
            "[240]\tvalid_0's rmse: 0.277287\tvalid_0's l2: 0.076888\n",
            "[241]\tvalid_0's rmse: 0.277223\tvalid_0's l2: 0.0768529\n",
            "[242]\tvalid_0's rmse: 0.27722\tvalid_0's l2: 0.0768509\n",
            "[243]\tvalid_0's rmse: 0.277201\tvalid_0's l2: 0.0768403\n",
            "[244]\tvalid_0's rmse: 0.277218\tvalid_0's l2: 0.0768497\n",
            "[245]\tvalid_0's rmse: 0.277108\tvalid_0's l2: 0.0767887\n",
            "[246]\tvalid_0's rmse: 0.277114\tvalid_0's l2: 0.0767919\n",
            "[247]\tvalid_0's rmse: 0.277094\tvalid_0's l2: 0.0767814\n",
            "[248]\tvalid_0's rmse: 0.277089\tvalid_0's l2: 0.0767781\n",
            "[249]\tvalid_0's rmse: 0.277035\tvalid_0's l2: 0.0767483\n",
            "[250]\tvalid_0's rmse: 0.277022\tvalid_0's l2: 0.0767409\n",
            "[251]\tvalid_0's rmse: 0.277013\tvalid_0's l2: 0.0767362\n",
            "[252]\tvalid_0's rmse: 0.276987\tvalid_0's l2: 0.0767218\n",
            "[253]\tvalid_0's rmse: 0.27687\tvalid_0's l2: 0.0766573\n",
            "[254]\tvalid_0's rmse: 0.276879\tvalid_0's l2: 0.076662\n",
            "[255]\tvalid_0's rmse: 0.276873\tvalid_0's l2: 0.0766585\n",
            "[256]\tvalid_0's rmse: 0.276882\tvalid_0's l2: 0.0766636\n",
            "[257]\tvalid_0's rmse: 0.276861\tvalid_0's l2: 0.0766522\n",
            "[258]\tvalid_0's rmse: 0.276866\tvalid_0's l2: 0.076655\n",
            "[259]\tvalid_0's rmse: 0.276769\tvalid_0's l2: 0.0766013\n",
            "[260]\tvalid_0's rmse: 0.276793\tvalid_0's l2: 0.0766143\n",
            "[261]\tvalid_0's rmse: 0.276715\tvalid_0's l2: 0.0765712\n",
            "[262]\tvalid_0's rmse: 0.276665\tvalid_0's l2: 0.0765437\n",
            "[263]\tvalid_0's rmse: 0.276492\tvalid_0's l2: 0.0764476\n",
            "[264]\tvalid_0's rmse: 0.276448\tvalid_0's l2: 0.0764234\n",
            "[265]\tvalid_0's rmse: 0.276355\tvalid_0's l2: 0.0763723\n",
            "[266]\tvalid_0's rmse: 0.276338\tvalid_0's l2: 0.0763626\n",
            "[267]\tvalid_0's rmse: 0.276287\tvalid_0's l2: 0.0763346\n",
            "[268]\tvalid_0's rmse: 0.276275\tvalid_0's l2: 0.0763276\n",
            "[269]\tvalid_0's rmse: 0.276242\tvalid_0's l2: 0.0763094\n",
            "[270]\tvalid_0's rmse: 0.276191\tvalid_0's l2: 0.0762815\n",
            "[271]\tvalid_0's rmse: 0.276162\tvalid_0's l2: 0.0762653\n",
            "[272]\tvalid_0's rmse: 0.276117\tvalid_0's l2: 0.0762405\n",
            "[273]\tvalid_0's rmse: 0.276076\tvalid_0's l2: 0.076218\n",
            "[274]\tvalid_0's rmse: 0.27606\tvalid_0's l2: 0.076209\n",
            "[275]\tvalid_0's rmse: 0.275993\tvalid_0's l2: 0.0761719\n",
            "[276]\tvalid_0's rmse: 0.275895\tvalid_0's l2: 0.0761182\n",
            "[277]\tvalid_0's rmse: 0.27585\tvalid_0's l2: 0.0760932\n",
            "[278]\tvalid_0's rmse: 0.275849\tvalid_0's l2: 0.0760924\n",
            "[279]\tvalid_0's rmse: 0.275831\tvalid_0's l2: 0.0760829\n",
            "[280]\tvalid_0's rmse: 0.275806\tvalid_0's l2: 0.0760689\n",
            "[281]\tvalid_0's rmse: 0.275697\tvalid_0's l2: 0.076009\n",
            "[282]\tvalid_0's rmse: 0.275712\tvalid_0's l2: 0.0760171\n",
            "[283]\tvalid_0's rmse: 0.275705\tvalid_0's l2: 0.076013\n",
            "[284]\tvalid_0's rmse: 0.275713\tvalid_0's l2: 0.0760177\n",
            "[285]\tvalid_0's rmse: 0.275715\tvalid_0's l2: 0.0760186\n",
            "[286]\tvalid_0's rmse: 0.275719\tvalid_0's l2: 0.0760211\n",
            "Early stopping, best iteration is:\n",
            "[281]\tvalid_0's rmse: 0.275697\tvalid_0's l2: 0.076009\n"
          ],
          "name": "stdout"
        },
        {
          "output_type": "execute_result",
          "data": {
            "text/plain": [
              "LGBMRegressor(boosting_type='gbdt', class_weight=None, colsample_bytre=0.8,\n",
              "       colsample_bytree=1.0, importance_type='split', learning_rate=0.1,\n",
              "       max_depth=3, min_child_samples=20, min_child_weight=0.001,\n",
              "       min_split_gain=0.0, n_estimators=300, n_jobs=-1, num_leaves=31,\n",
              "       objective='regression', random_state=None, reg_alpha=0.0,\n",
              "       reg_lambda=0.0, silent=True, subsample=0.8,\n",
              "       subsample_for_bin=200000, subsample_freq=0)"
            ]
          },
          "metadata": {
            "tags": []
          },
          "execution_count": 21
        }
      ]
    },
    {
      "cell_type": "code",
      "metadata": {
        "id": "Ecb9n7QFp4Hs",
        "colab_type": "code",
        "colab": {}
      },
      "source": [
        "from sklearn.linear_model import ElasticNet, Lasso,  BayesianRidge, LassoLarsIC\n",
        "from sklearn.ensemble import RandomForestRegressor,  GradientBoostingRegressor\n",
        "from sklearn.kernel_ridge import KernelRidge\n",
        "from sklearn.pipeline import make_pipeline\n",
        "from sklearn.preprocessing import RobustScaler\n",
        "from sklearn.base import BaseEstimator, TransformerMixin, RegressorMixin, clone\n",
        "from sklearn.model_selection import KFold, cross_val_score, train_test_split\n",
        "from sklearn.metrics import mean_squared_error\n",
        "import xgboost as xgb\n",
        "import lightgbm as lgb"
      ],
      "execution_count": 0,
      "outputs": []
    },
    {
      "cell_type": "code",
      "metadata": {
        "id": "ZzN2EfLbp4EN",
        "colab_type": "code",
        "colab": {}
      },
      "source": [
        "GBoost = GradientBoostingRegressor(n_estimators=3000, learning_rate=0.05,\n",
        "                                   max_depth=4, max_features='sqrt',\n",
        "                                   min_samples_leaf=15, min_samples_split=10, \n",
        "                                   loss='huber', random_state =5)"
      ],
      "execution_count": 0,
      "outputs": []
    },
    {
      "cell_type": "code",
      "metadata": {
        "id": "lZlhquo9p4A6",
        "colab_type": "code",
        "colab": {}
      },
      "source": [
        "model_xgb = xgb.XGBRegressor(colsample_bytree=0.4603, gamma=0.0468, \n",
        "                             learning_rate=0.05, max_depth=3, \n",
        "                             min_child_weight=1.7817, n_estimators=2200,\n",
        "                             reg_alpha=0.4640, reg_lambda=0.8571,\n",
        "                             subsample=0.5213, silent=1,\n",
        "                             random_state =7, nthread = -1)"
      ],
      "execution_count": 0,
      "outputs": []
    },
    {
      "cell_type": "code",
      "metadata": {
        "id": "KIV0ERz5p37O",
        "colab_type": "code",
        "colab": {}
      },
      "source": [
        "model_lgb = lgb.LGBMRegressor(objective='regression',num_leaves=5,\n",
        "                              learning_rate=0.05, n_estimators=720,\n",
        "                              max_bin = 55, bagging_fraction = 0.8,\n",
        "                              bagging_freq = 5, feature_fraction = 0.2319,\n",
        "                              feature_fraction_seed=9, bagging_seed=9,\n",
        "                              min_data_in_leaf =6, min_sum_hessian_in_leaf = 11)"
      ],
      "execution_count": 0,
      "outputs": []
    },
    {
      "cell_type": "code",
      "metadata": {
        "id": "sIaolwSKp34M",
        "colab_type": "code",
        "outputId": "422326bd-b12c-4ed1-c9f7-a108c1ea3239",
        "colab": {
          "base_uri": "https://localhost:8080/",
          "height": 170
        }
      },
      "source": [
        "GBoost.fit(X_train, y_train)"
      ],
      "execution_count": 0,
      "outputs": [
        {
          "output_type": "execute_result",
          "data": {
            "text/plain": [
              "GradientBoostingRegressor(alpha=0.9, criterion='friedman_mse', init=None,\n",
              "             learning_rate=0.05, loss='huber', max_depth=4,\n",
              "             max_features='sqrt', max_leaf_nodes=None,\n",
              "             min_impurity_decrease=0.0, min_impurity_split=None,\n",
              "             min_samples_leaf=15, min_samples_split=10,\n",
              "             min_weight_fraction_leaf=0.0, n_estimators=3000,\n",
              "             n_iter_no_change=None, presort='auto', random_state=5,\n",
              "             subsample=1.0, tol=0.0001, validation_fraction=0.1, verbose=0,\n",
              "             warm_start=False)"
            ]
          },
          "metadata": {
            "tags": []
          },
          "execution_count": 26
        }
      ]
    },
    {
      "cell_type": "code",
      "metadata": {
        "id": "_iadL_EIp3EM",
        "colab_type": "code",
        "colab": {}
      },
      "source": [
        "preds_GBoost=GBoost.predict(X_test)"
      ],
      "execution_count": 0,
      "outputs": []
    },
    {
      "cell_type": "code",
      "metadata": {
        "id": "4QqjwDFnHUBH",
        "colab_type": "code",
        "colab": {}
      },
      "source": [
        "score_GBoost=np.round(np.clip(preds_GBoost, 0,1)).astype('int')"
      ],
      "execution_count": 0,
      "outputs": []
    },
    {
      "cell_type": "code",
      "metadata": {
        "id": "IMlFOM12HTXh",
        "colab_type": "code",
        "outputId": "df5dc102-53f9-4170-9545-c2b7b7efaa0f",
        "colab": {
          "base_uri": "https://localhost:8080/",
          "height": 51
        }
      },
      "source": [
        "mt_GBoost = confusion_matrix(y_test.astype('int'), score_GBoost)\n",
        "mt_GBoost"
      ],
      "execution_count": 0,
      "outputs": [
        {
          "output_type": "execute_result",
          "data": {
            "text/plain": [
              "array([[617,  81],\n",
              "       [ 63, 645]])"
            ]
          },
          "metadata": {
            "tags": []
          },
          "execution_count": 30
        }
      ]
    },
    {
      "cell_type": "code",
      "metadata": {
        "id": "Db1hqIhvHTLt",
        "colab_type": "code",
        "colab": {}
      },
      "source": [
        ""
      ],
      "execution_count": 0,
      "outputs": []
    },
    {
      "cell_type": "code",
      "metadata": {
        "id": "E1N-YvUMp2_Q",
        "colab_type": "code",
        "outputId": "14e8bf38-19d0-4555-9d00-998c01b55e93",
        "colab": {
          "base_uri": "https://localhost:8080/",
          "height": 136
        }
      },
      "source": [
        "model_xgb.fit(X_train, y_train)"
      ],
      "execution_count": 0,
      "outputs": [
        {
          "output_type": "execute_result",
          "data": {
            "text/plain": [
              "XGBRegressor(base_score=0.5, booster='gbtree', colsample_bylevel=1,\n",
              "       colsample_bytree=0.4603, gamma=0.0468, learning_rate=0.05,\n",
              "       max_delta_step=0, max_depth=3, min_child_weight=1.7817,\n",
              "       missing=None, n_estimators=2200, n_jobs=1, nthread=-1,\n",
              "       objective='reg:linear', random_state=7, reg_alpha=0.464,\n",
              "       reg_lambda=0.8571, scale_pos_weight=1, seed=None, silent=1,\n",
              "       subsample=0.5213)"
            ]
          },
          "metadata": {
            "tags": []
          },
          "execution_count": 31
        }
      ]
    },
    {
      "cell_type": "code",
      "metadata": {
        "id": "y2_PZZN4p279",
        "colab_type": "code",
        "colab": {}
      },
      "source": [
        "preds_model_xgb=model_xgb.predict(X_test)"
      ],
      "execution_count": 0,
      "outputs": []
    },
    {
      "cell_type": "code",
      "metadata": {
        "id": "8IayqbufH02R",
        "colab_type": "code",
        "outputId": "e90aaa72-9ea5-4bcb-bf2e-9fbe1b224b06",
        "colab": {
          "base_uri": "https://localhost:8080/",
          "height": 51
        }
      },
      "source": [
        "score_xgb=np.round(np.clip(preds_model_xgb, 0,1)).astype('int')\n",
        "mt_xgb = confusion_matrix(y_test.astype('int'), score_xgb)\n",
        "mt_xgb"
      ],
      "execution_count": 0,
      "outputs": [
        {
          "output_type": "execute_result",
          "data": {
            "text/plain": [
              "array([[616,  82],\n",
              "       [ 65, 643]])"
            ]
          },
          "metadata": {
            "tags": []
          },
          "execution_count": 33
        }
      ]
    },
    {
      "cell_type": "code",
      "metadata": {
        "id": "zPdoH28vH0jU",
        "colab_type": "code",
        "colab": {}
      },
      "source": [
        ""
      ],
      "execution_count": 0,
      "outputs": []
    },
    {
      "cell_type": "code",
      "metadata": {
        "id": "FuRKDs3ep239",
        "colab_type": "code",
        "outputId": "33e1545a-6a45-4301-c996-6a96146b888a",
        "colab": {
          "base_uri": "https://localhost:8080/",
          "height": 170
        }
      },
      "source": [
        "model_lgb.fit(X_train, y_train)"
      ],
      "execution_count": 0,
      "outputs": [
        {
          "output_type": "execute_result",
          "data": {
            "text/plain": [
              "LGBMRegressor(bagging_fraction=0.8, bagging_freq=5, bagging_seed=9,\n",
              "       boosting_type='gbdt', class_weight=None, colsample_bytree=1.0,\n",
              "       feature_fraction=0.2319, feature_fraction_seed=9,\n",
              "       importance_type='split', learning_rate=0.05, max_bin=55,\n",
              "       max_depth=-1, min_child_samples=20, min_child_weight=0.001,\n",
              "       min_data_in_leaf=6, min_split_gain=0.0, min_sum_hessian_in_leaf=11,\n",
              "       n_estimators=720, n_jobs=-1, num_leaves=5, objective='regression',\n",
              "       random_state=None, reg_alpha=0.0, reg_lambda=0.0, silent=True,\n",
              "       subsample=1.0, subsample_for_bin=200000, subsample_freq=0)"
            ]
          },
          "metadata": {
            "tags": []
          },
          "execution_count": 34
        }
      ]
    },
    {
      "cell_type": "code",
      "metadata": {
        "id": "F5SyyBCdp20K",
        "colab_type": "code",
        "colab": {}
      },
      "source": [
        "preds_model_lgb=model_lgb.predict(X_test)"
      ],
      "execution_count": 0,
      "outputs": []
    },
    {
      "cell_type": "code",
      "metadata": {
        "id": "FNtsZgiCIIpV",
        "colab_type": "code",
        "outputId": "50f238ee-c0e2-4fca-add3-6292d0bfc097",
        "colab": {
          "base_uri": "https://localhost:8080/",
          "height": 51
        }
      },
      "source": [
        "score_lgb=np.round(np.clip(preds_model_lgb, 0,1)).astype('int')\n",
        "mt_lgb = confusion_matrix(y_test.astype('int'), score_lgb)\n",
        "mt_lgb"
      ],
      "execution_count": 0,
      "outputs": [
        {
          "output_type": "execute_result",
          "data": {
            "text/plain": [
              "array([[606,  92],\n",
              "       [ 93, 615]])"
            ]
          },
          "metadata": {
            "tags": []
          },
          "execution_count": 36
        }
      ]
    },
    {
      "cell_type": "code",
      "metadata": {
        "id": "k-Hg91tqIHjO",
        "colab_type": "code",
        "colab": {}
      },
      "source": [
        ""
      ],
      "execution_count": 0,
      "outputs": []
    },
    {
      "cell_type": "code",
      "metadata": {
        "id": "0vCVQHZ9IV9L",
        "colab_type": "code",
        "outputId": "2d9ab219-a744-402d-dfb7-8d4362021da4",
        "colab": {
          "base_uri": "https://localhost:8080/",
          "height": 224
        }
      },
      "source": [
        "!pip install catboost"
      ],
      "execution_count": 0,
      "outputs": [
        {
          "output_type": "stream",
          "text": [
            "Collecting catboost\n",
            "\u001b[?25l  Downloading https://files.pythonhosted.org/packages/98/03/777a0e1c12571a7f3320a4fa6d5f123dba2dd7c0bca34f4f698a6396eb48/catboost-0.12.2-cp36-none-manylinux1_x86_64.whl (55.5MB)\n",
            "\u001b[K    100% |████████████████████████████████| 55.5MB 986kB/s \n",
            "\u001b[?25hRequirement already satisfied: pandas>=0.19.1 in /usr/local/lib/python3.6/dist-packages (from catboost) (0.22.0)\n",
            "Requirement already satisfied: numpy>=1.11.1 in /usr/local/lib/python3.6/dist-packages (from catboost) (1.14.6)\n",
            "Requirement already satisfied: six in /usr/local/lib/python3.6/dist-packages (from catboost) (1.11.0)\n",
            "Requirement already satisfied: enum34 in /usr/local/lib/python3.6/dist-packages (from catboost) (1.1.6)\n",
            "Requirement already satisfied: pytz>=2011k in /usr/local/lib/python3.6/dist-packages (from pandas>=0.19.1->catboost) (2018.9)\n",
            "Requirement already satisfied: python-dateutil>=2 in /usr/local/lib/python3.6/dist-packages (from pandas>=0.19.1->catboost) (2.5.3)\n",
            "Installing collected packages: catboost\n",
            "Successfully installed catboost-0.12.2\n"
          ],
          "name": "stdout"
        }
      ]
    },
    {
      "cell_type": "code",
      "metadata": {
        "id": "nvRgdqA4Ia3W",
        "colab_type": "code",
        "colab": {}
      },
      "source": [
        "from catboost import CatBoostRegressor\n",
        "model_cat = CatBoostRegressor(iterations=200, learning_rate=0.3, depth=4)"
      ],
      "execution_count": 0,
      "outputs": []
    },
    {
      "cell_type": "code",
      "metadata": {
        "id": "vBrD7iLJIanu",
        "colab_type": "code",
        "outputId": "2197dc0a-a12b-4a09-f98f-4b49cd022280",
        "colab": {
          "base_uri": "https://localhost:8080/",
          "height": 3434
        }
      },
      "source": [
        "model_cat.fit(X_train, y_train)"
      ],
      "execution_count": 0,
      "outputs": [
        {
          "output_type": "stream",
          "text": [
            "0:\tlearn: 0.5515396\ttotal: 51.3ms\tremaining: 10.2s\n",
            "1:\tlearn: 0.4568168\ttotal: 55.3ms\tremaining: 5.47s\n",
            "2:\tlearn: 0.3939048\ttotal: 58.8ms\tremaining: 3.86s\n",
            "3:\tlearn: 0.3584810\ttotal: 63ms\tremaining: 3.09s\n",
            "4:\tlearn: 0.3360767\ttotal: 66.7ms\tremaining: 2.6s\n",
            "5:\tlearn: 0.3231794\ttotal: 70.2ms\tremaining: 2.27s\n",
            "6:\tlearn: 0.3162773\ttotal: 74ms\tremaining: 2.04s\n",
            "7:\tlearn: 0.3100457\ttotal: 77.6ms\tremaining: 1.86s\n",
            "8:\tlearn: 0.3059209\ttotal: 81.1ms\tremaining: 1.72s\n",
            "9:\tlearn: 0.3029929\ttotal: 84.8ms\tremaining: 1.61s\n",
            "10:\tlearn: 0.3013208\ttotal: 88.3ms\tremaining: 1.52s\n",
            "11:\tlearn: 0.2989577\ttotal: 91.9ms\tremaining: 1.44s\n",
            "12:\tlearn: 0.2981698\ttotal: 95.2ms\tremaining: 1.37s\n",
            "13:\tlearn: 0.2949047\ttotal: 98.9ms\tremaining: 1.31s\n",
            "14:\tlearn: 0.2942013\ttotal: 102ms\tremaining: 1.26s\n",
            "15:\tlearn: 0.2926849\ttotal: 106ms\tremaining: 1.22s\n",
            "16:\tlearn: 0.2913815\ttotal: 109ms\tremaining: 1.18s\n",
            "17:\tlearn: 0.2902145\ttotal: 113ms\tremaining: 1.14s\n",
            "18:\tlearn: 0.2898786\ttotal: 116ms\tremaining: 1.11s\n",
            "19:\tlearn: 0.2895591\ttotal: 120ms\tremaining: 1.08s\n",
            "20:\tlearn: 0.2893080\ttotal: 123ms\tremaining: 1.05s\n",
            "21:\tlearn: 0.2853165\ttotal: 126ms\tremaining: 1.02s\n",
            "22:\tlearn: 0.2853162\ttotal: 129ms\tremaining: 994ms\n",
            "23:\tlearn: 0.2850424\ttotal: 133ms\tremaining: 972ms\n",
            "24:\tlearn: 0.2849141\ttotal: 136ms\tremaining: 952ms\n",
            "25:\tlearn: 0.2839789\ttotal: 140ms\tremaining: 934ms\n",
            "26:\tlearn: 0.2835349\ttotal: 143ms\tremaining: 916ms\n",
            "27:\tlearn: 0.2834416\ttotal: 146ms\tremaining: 898ms\n",
            "28:\tlearn: 0.2833435\ttotal: 150ms\tremaining: 882ms\n",
            "29:\tlearn: 0.2820140\ttotal: 153ms\tremaining: 867ms\n",
            "30:\tlearn: 0.2816800\ttotal: 157ms\tremaining: 854ms\n",
            "31:\tlearn: 0.2794058\ttotal: 160ms\tremaining: 840ms\n",
            "32:\tlearn: 0.2779993\ttotal: 164ms\tremaining: 829ms\n",
            "33:\tlearn: 0.2776109\ttotal: 167ms\tremaining: 817ms\n",
            "34:\tlearn: 0.2775303\ttotal: 171ms\tremaining: 806ms\n",
            "35:\tlearn: 0.2775303\ttotal: 174ms\tremaining: 791ms\n",
            "36:\tlearn: 0.2775244\ttotal: 177ms\tremaining: 781ms\n",
            "37:\tlearn: 0.2768227\ttotal: 181ms\tremaining: 771ms\n",
            "38:\tlearn: 0.2766380\ttotal: 185ms\tremaining: 762ms\n",
            "39:\tlearn: 0.2760783\ttotal: 188ms\tremaining: 752ms\n",
            "40:\tlearn: 0.2760555\ttotal: 192ms\tremaining: 743ms\n",
            "41:\tlearn: 0.2758865\ttotal: 195ms\tremaining: 733ms\n",
            "42:\tlearn: 0.2753700\ttotal: 198ms\tremaining: 725ms\n",
            "43:\tlearn: 0.2740392\ttotal: 202ms\tremaining: 716ms\n",
            "44:\tlearn: 0.2736764\ttotal: 206ms\tremaining: 709ms\n",
            "45:\tlearn: 0.2709909\ttotal: 210ms\tremaining: 702ms\n",
            "46:\tlearn: 0.2704471\ttotal: 213ms\tremaining: 694ms\n",
            "47:\tlearn: 0.2702565\ttotal: 217ms\tremaining: 686ms\n",
            "48:\tlearn: 0.2700004\ttotal: 220ms\tremaining: 678ms\n",
            "49:\tlearn: 0.2697497\ttotal: 224ms\tremaining: 671ms\n",
            "50:\tlearn: 0.2693254\ttotal: 227ms\tremaining: 664ms\n",
            "51:\tlearn: 0.2688233\ttotal: 231ms\tremaining: 657ms\n",
            "52:\tlearn: 0.2681881\ttotal: 234ms\tremaining: 650ms\n",
            "53:\tlearn: 0.2681374\ttotal: 238ms\tremaining: 643ms\n",
            "54:\tlearn: 0.2671506\ttotal: 241ms\tremaining: 636ms\n",
            "55:\tlearn: 0.2671253\ttotal: 245ms\tremaining: 629ms\n",
            "56:\tlearn: 0.2660128\ttotal: 253ms\tremaining: 636ms\n",
            "57:\tlearn: 0.2643447\ttotal: 257ms\tremaining: 630ms\n",
            "58:\tlearn: 0.2642844\ttotal: 261ms\tremaining: 623ms\n",
            "59:\tlearn: 0.2637107\ttotal: 264ms\tremaining: 617ms\n",
            "60:\tlearn: 0.2626466\ttotal: 268ms\tremaining: 611ms\n",
            "61:\tlearn: 0.2625747\ttotal: 274ms\tremaining: 610ms\n",
            "62:\tlearn: 0.2624638\ttotal: 280ms\tremaining: 609ms\n",
            "63:\tlearn: 0.2622073\ttotal: 284ms\tremaining: 603ms\n",
            "64:\tlearn: 0.2621926\ttotal: 288ms\tremaining: 597ms\n",
            "65:\tlearn: 0.2614736\ttotal: 291ms\tremaining: 591ms\n",
            "66:\tlearn: 0.2614638\ttotal: 295ms\tremaining: 585ms\n",
            "67:\tlearn: 0.2610517\ttotal: 298ms\tremaining: 579ms\n",
            "68:\tlearn: 0.2610209\ttotal: 302ms\tremaining: 573ms\n",
            "69:\tlearn: 0.2609730\ttotal: 305ms\tremaining: 567ms\n",
            "70:\tlearn: 0.2604321\ttotal: 309ms\tremaining: 561ms\n",
            "71:\tlearn: 0.2602791\ttotal: 313ms\tremaining: 556ms\n",
            "72:\tlearn: 0.2602752\ttotal: 316ms\tremaining: 550ms\n",
            "73:\tlearn: 0.2602554\ttotal: 319ms\tremaining: 544ms\n",
            "74:\tlearn: 0.2602461\ttotal: 323ms\tremaining: 538ms\n",
            "75:\tlearn: 0.2600899\ttotal: 326ms\tremaining: 532ms\n",
            "76:\tlearn: 0.2585092\ttotal: 330ms\tremaining: 527ms\n",
            "77:\tlearn: 0.2583936\ttotal: 333ms\tremaining: 522ms\n",
            "78:\tlearn: 0.2583890\ttotal: 337ms\tremaining: 516ms\n",
            "79:\tlearn: 0.2583704\ttotal: 340ms\tremaining: 510ms\n",
            "80:\tlearn: 0.2583639\ttotal: 343ms\tremaining: 505ms\n",
            "81:\tlearn: 0.2583504\ttotal: 347ms\tremaining: 499ms\n",
            "82:\tlearn: 0.2578674\ttotal: 350ms\tremaining: 494ms\n",
            "83:\tlearn: 0.2577845\ttotal: 354ms\tremaining: 488ms\n",
            "84:\tlearn: 0.2574959\ttotal: 357ms\tremaining: 483ms\n",
            "85:\tlearn: 0.2574890\ttotal: 361ms\tremaining: 478ms\n",
            "86:\tlearn: 0.2574600\ttotal: 369ms\tremaining: 480ms\n",
            "87:\tlearn: 0.2573343\ttotal: 375ms\tremaining: 477ms\n",
            "88:\tlearn: 0.2571632\ttotal: 380ms\tremaining: 473ms\n",
            "89:\tlearn: 0.2571567\ttotal: 383ms\tremaining: 468ms\n",
            "90:\tlearn: 0.2569861\ttotal: 387ms\tremaining: 463ms\n",
            "91:\tlearn: 0.2568889\ttotal: 390ms\tremaining: 458ms\n",
            "92:\tlearn: 0.2566864\ttotal: 394ms\tremaining: 453ms\n",
            "93:\tlearn: 0.2566777\ttotal: 397ms\tremaining: 448ms\n",
            "94:\tlearn: 0.2566772\ttotal: 400ms\tremaining: 442ms\n",
            "95:\tlearn: 0.2563837\ttotal: 403ms\tremaining: 437ms\n",
            "96:\tlearn: 0.2563833\ttotal: 406ms\tremaining: 431ms\n",
            "97:\tlearn: 0.2563789\ttotal: 410ms\tremaining: 426ms\n",
            "98:\tlearn: 0.2563784\ttotal: 412ms\tremaining: 420ms\n",
            "99:\tlearn: 0.2563076\ttotal: 416ms\tremaining: 416ms\n",
            "100:\tlearn: 0.2562160\ttotal: 420ms\tremaining: 411ms\n",
            "101:\tlearn: 0.2557681\ttotal: 423ms\tremaining: 407ms\n",
            "102:\tlearn: 0.2557666\ttotal: 427ms\tremaining: 402ms\n",
            "103:\tlearn: 0.2557649\ttotal: 430ms\tremaining: 397ms\n",
            "104:\tlearn: 0.2557629\ttotal: 434ms\tremaining: 392ms\n",
            "105:\tlearn: 0.2556099\ttotal: 437ms\tremaining: 387ms\n",
            "106:\tlearn: 0.2556013\ttotal: 440ms\tremaining: 383ms\n",
            "107:\tlearn: 0.2555847\ttotal: 444ms\tremaining: 378ms\n",
            "108:\tlearn: 0.2555167\ttotal: 450ms\tremaining: 375ms\n",
            "109:\tlearn: 0.2553151\ttotal: 455ms\tremaining: 372ms\n",
            "110:\tlearn: 0.2551337\ttotal: 458ms\tremaining: 368ms\n",
            "111:\tlearn: 0.2550482\ttotal: 462ms\tremaining: 363ms\n",
            "112:\tlearn: 0.2549928\ttotal: 466ms\tremaining: 358ms\n",
            "113:\tlearn: 0.2549913\ttotal: 469ms\tremaining: 354ms\n",
            "114:\tlearn: 0.2549892\ttotal: 474ms\tremaining: 350ms\n",
            "115:\tlearn: 0.2548689\ttotal: 478ms\tremaining: 346ms\n",
            "116:\tlearn: 0.2548682\ttotal: 482ms\tremaining: 342ms\n",
            "117:\tlearn: 0.2548105\ttotal: 485ms\tremaining: 337ms\n",
            "118:\tlearn: 0.2547695\ttotal: 489ms\tremaining: 333ms\n",
            "119:\tlearn: 0.2545976\ttotal: 492ms\tremaining: 328ms\n",
            "120:\tlearn: 0.2540544\ttotal: 497ms\tremaining: 324ms\n",
            "121:\tlearn: 0.2538530\ttotal: 500ms\tremaining: 320ms\n",
            "122:\tlearn: 0.2537269\ttotal: 504ms\tremaining: 315ms\n",
            "123:\tlearn: 0.2537264\ttotal: 507ms\tremaining: 311ms\n",
            "124:\tlearn: 0.2536594\ttotal: 510ms\tremaining: 306ms\n",
            "125:\tlearn: 0.2536588\ttotal: 513ms\tremaining: 301ms\n",
            "126:\tlearn: 0.2536574\ttotal: 516ms\tremaining: 297ms\n",
            "127:\tlearn: 0.2536550\ttotal: 520ms\tremaining: 292ms\n",
            "128:\tlearn: 0.2536545\ttotal: 523ms\tremaining: 288ms\n",
            "129:\tlearn: 0.2536235\ttotal: 527ms\tremaining: 284ms\n",
            "130:\tlearn: 0.2535797\ttotal: 530ms\tremaining: 279ms\n",
            "131:\tlearn: 0.2531214\ttotal: 534ms\tremaining: 275ms\n",
            "132:\tlearn: 0.2530457\ttotal: 537ms\tremaining: 271ms\n",
            "133:\tlearn: 0.2528364\ttotal: 541ms\tremaining: 267ms\n",
            "134:\tlearn: 0.2528345\ttotal: 545ms\tremaining: 262ms\n",
            "135:\tlearn: 0.2528342\ttotal: 548ms\tremaining: 258ms\n",
            "136:\tlearn: 0.2528249\ttotal: 552ms\tremaining: 254ms\n",
            "137:\tlearn: 0.2528210\ttotal: 555ms\tremaining: 249ms\n",
            "138:\tlearn: 0.2520116\ttotal: 559ms\tremaining: 245ms\n",
            "139:\tlearn: 0.2520048\ttotal: 563ms\tremaining: 241ms\n",
            "140:\tlearn: 0.2519435\ttotal: 566ms\tremaining: 237ms\n",
            "141:\tlearn: 0.2517126\ttotal: 570ms\tremaining: 233ms\n",
            "142:\tlearn: 0.2516110\ttotal: 574ms\tremaining: 229ms\n",
            "143:\tlearn: 0.2515611\ttotal: 577ms\tremaining: 225ms\n",
            "144:\tlearn: 0.2515602\ttotal: 581ms\tremaining: 220ms\n",
            "145:\tlearn: 0.2515030\ttotal: 584ms\tremaining: 216ms\n",
            "146:\tlearn: 0.2514171\ttotal: 588ms\tremaining: 212ms\n",
            "147:\tlearn: 0.2513503\ttotal: 591ms\tremaining: 208ms\n",
            "148:\tlearn: 0.2512562\ttotal: 594ms\tremaining: 203ms\n",
            "149:\tlearn: 0.2512151\ttotal: 598ms\tremaining: 199ms\n",
            "150:\tlearn: 0.2512065\ttotal: 601ms\tremaining: 195ms\n",
            "151:\tlearn: 0.2508699\ttotal: 605ms\tremaining: 191ms\n",
            "152:\tlearn: 0.2507998\ttotal: 609ms\tremaining: 187ms\n",
            "153:\tlearn: 0.2505963\ttotal: 612ms\tremaining: 183ms\n",
            "154:\tlearn: 0.2500024\ttotal: 616ms\tremaining: 179ms\n",
            "155:\tlearn: 0.2500024\ttotal: 618ms\tremaining: 174ms\n",
            "156:\tlearn: 0.2498967\ttotal: 622ms\tremaining: 170ms\n",
            "157:\tlearn: 0.2498643\ttotal: 625ms\tremaining: 166ms\n",
            "158:\tlearn: 0.2497946\ttotal: 629ms\tremaining: 162ms\n",
            "159:\tlearn: 0.2496569\ttotal: 632ms\tremaining: 158ms\n",
            "160:\tlearn: 0.2496458\ttotal: 636ms\tremaining: 154ms\n",
            "161:\tlearn: 0.2496315\ttotal: 639ms\tremaining: 150ms\n",
            "162:\tlearn: 0.2496297\ttotal: 642ms\tremaining: 146ms\n",
            "163:\tlearn: 0.2496067\ttotal: 648ms\tremaining: 142ms\n",
            "164:\tlearn: 0.2495887\ttotal: 651ms\tremaining: 138ms\n",
            "165:\tlearn: 0.2495732\ttotal: 655ms\tremaining: 134ms\n",
            "166:\tlearn: 0.2495290\ttotal: 658ms\tremaining: 130ms\n",
            "167:\tlearn: 0.2495118\ttotal: 661ms\tremaining: 126ms\n",
            "168:\tlearn: 0.2487905\ttotal: 665ms\tremaining: 122ms\n",
            "169:\tlearn: 0.2487903\ttotal: 669ms\tremaining: 118ms\n",
            "170:\tlearn: 0.2487368\ttotal: 672ms\tremaining: 114ms\n",
            "171:\tlearn: 0.2487348\ttotal: 675ms\tremaining: 110ms\n",
            "172:\tlearn: 0.2487206\ttotal: 679ms\tremaining: 106ms\n",
            "173:\tlearn: 0.2487135\ttotal: 682ms\tremaining: 102ms\n",
            "174:\tlearn: 0.2484096\ttotal: 685ms\tremaining: 97.9ms\n",
            "175:\tlearn: 0.2483942\ttotal: 689ms\tremaining: 93.9ms\n",
            "176:\tlearn: 0.2483850\ttotal: 692ms\tremaining: 89.9ms\n",
            "177:\tlearn: 0.2483031\ttotal: 695ms\tremaining: 86ms\n",
            "178:\tlearn: 0.2482984\ttotal: 699ms\tremaining: 82ms\n",
            "179:\tlearn: 0.2482824\ttotal: 702ms\tremaining: 78ms\n",
            "180:\tlearn: 0.2482041\ttotal: 706ms\tremaining: 74.1ms\n",
            "181:\tlearn: 0.2481217\ttotal: 709ms\tremaining: 70.1ms\n",
            "182:\tlearn: 0.2481162\ttotal: 712ms\tremaining: 66.2ms\n",
            "183:\tlearn: 0.2478576\ttotal: 716ms\tremaining: 62.2ms\n",
            "184:\tlearn: 0.2477915\ttotal: 719ms\tremaining: 58.3ms\n",
            "185:\tlearn: 0.2477895\ttotal: 722ms\tremaining: 54.4ms\n",
            "186:\tlearn: 0.2477874\ttotal: 726ms\tremaining: 50.4ms\n",
            "187:\tlearn: 0.2477419\ttotal: 729ms\tremaining: 46.5ms\n",
            "188:\tlearn: 0.2477207\ttotal: 733ms\tremaining: 42.6ms\n",
            "189:\tlearn: 0.2476948\ttotal: 736ms\tremaining: 38.7ms\n",
            "190:\tlearn: 0.2476800\ttotal: 739ms\tremaining: 34.8ms\n",
            "191:\tlearn: 0.2476733\ttotal: 743ms\tremaining: 30.9ms\n",
            "192:\tlearn: 0.2473844\ttotal: 746ms\tremaining: 27.1ms\n",
            "193:\tlearn: 0.2471850\ttotal: 750ms\tremaining: 23.2ms\n",
            "194:\tlearn: 0.2471713\ttotal: 753ms\tremaining: 19.3ms\n",
            "195:\tlearn: 0.2471531\ttotal: 756ms\tremaining: 15.4ms\n",
            "196:\tlearn: 0.2470076\ttotal: 760ms\tremaining: 11.6ms\n",
            "197:\tlearn: 0.2470023\ttotal: 763ms\tremaining: 7.71ms\n",
            "198:\tlearn: 0.2469402\ttotal: 767ms\tremaining: 3.85ms\n",
            "199:\tlearn: 0.2469398\ttotal: 770ms\tremaining: 0us\n"
          ],
          "name": "stdout"
        },
        {
          "output_type": "execute_result",
          "data": {
            "text/plain": [
              "<catboost.core.CatBoostRegressor at 0x7f6282603e48>"
            ]
          },
          "metadata": {
            "tags": []
          },
          "execution_count": 39
        }
      ]
    },
    {
      "cell_type": "code",
      "metadata": {
        "id": "ialSd6b1IoZN",
        "colab_type": "code",
        "colab": {}
      },
      "source": [
        "preds_model_cat=model_cat.predict(X_test)"
      ],
      "execution_count": 0,
      "outputs": []
    },
    {
      "cell_type": "code",
      "metadata": {
        "id": "U03M2HIAIoMi",
        "colab_type": "code",
        "outputId": "9e6a4ea3-8b6b-4aa1-ea35-979b46de3406",
        "colab": {
          "base_uri": "https://localhost:8080/",
          "height": 51
        }
      },
      "source": [
        "score_cat=np.round(np.clip(preds_model_cat, 0,1)).astype('int')\n",
        "mt_cat = confusion_matrix(y_test.astype('int'), score_cat)\n",
        "mt_cat"
      ],
      "execution_count": 0,
      "outputs": [
        {
          "output_type": "execute_result",
          "data": {
            "text/plain": [
              "array([[620,  78],\n",
              "       [ 60, 648]])"
            ]
          },
          "metadata": {
            "tags": []
          },
          "execution_count": 41
        }
      ]
    },
    {
      "cell_type": "code",
      "metadata": {
        "id": "JP1pNDCOp2wt",
        "colab_type": "code",
        "colab": {}
      },
      "source": [
        "class AveragingModels(BaseEstimator, RegressorMixin, TransformerMixin):\n",
        "    def __init__(self, models):\n",
        "        self.models = models\n",
        "        \n",
        "    # we define clones of the original models to fit the data in\n",
        "    def fit(self, X, y):\n",
        "        self.models_ = [clone(x) for x in self.models]\n",
        "        \n",
        "        # Train cloned base models\n",
        "        for model in self.models_:\n",
        "            model.fit(X, y)\n",
        "\n",
        "        return self\n",
        "    \n",
        "    #Now we do the predictions for cloned models and average them\n",
        "    def predict(self, X):\n",
        "        predictions = np.column_stack([\n",
        "            model.predict(X) for model in self.models_\n",
        "        ])\n",
        "        return np.mean(predictions, axis=1) "
      ],
      "execution_count": 0,
      "outputs": []
    },
    {
      "cell_type": "code",
      "metadata": {
        "id": "EFAJ-o8ep2gH",
        "colab_type": "code",
        "outputId": "a081d846-f5fb-4996-fc52-99f92e9907d8",
        "colab": {
          "base_uri": "https://localhost:8080/",
          "height": 3502
        }
      },
      "source": [
        "averaged_models = AveragingModels(models = (GBoost, model_xgb, model_lgb, model_cat))\n",
        "\n",
        "averaged_models.fit(X_train, y_train)"
      ],
      "execution_count": 0,
      "outputs": [
        {
          "output_type": "stream",
          "text": [
            "0:\tlearn: 0.5515396\ttotal: 4.61ms\tremaining: 917ms\n",
            "1:\tlearn: 0.4568168\ttotal: 8.9ms\tremaining: 882ms\n",
            "2:\tlearn: 0.3939048\ttotal: 12.9ms\tremaining: 847ms\n",
            "3:\tlearn: 0.3584810\ttotal: 16.9ms\tremaining: 827ms\n",
            "4:\tlearn: 0.3360767\ttotal: 21ms\tremaining: 820ms\n",
            "5:\tlearn: 0.3231794\ttotal: 25ms\tremaining: 808ms\n",
            "6:\tlearn: 0.3162773\ttotal: 29.1ms\tremaining: 802ms\n",
            "7:\tlearn: 0.3100457\ttotal: 33.1ms\tremaining: 794ms\n",
            "8:\tlearn: 0.3059209\ttotal: 36.9ms\tremaining: 783ms\n",
            "9:\tlearn: 0.3029929\ttotal: 40.8ms\tremaining: 774ms\n",
            "10:\tlearn: 0.3013208\ttotal: 44.7ms\tremaining: 768ms\n",
            "11:\tlearn: 0.2989577\ttotal: 48.7ms\tremaining: 763ms\n",
            "12:\tlearn: 0.2981698\ttotal: 53.1ms\tremaining: 764ms\n",
            "13:\tlearn: 0.2949047\ttotal: 57.1ms\tremaining: 758ms\n",
            "14:\tlearn: 0.2942013\ttotal: 60.9ms\tremaining: 752ms\n",
            "15:\tlearn: 0.2926849\ttotal: 64.9ms\tremaining: 746ms\n",
            "16:\tlearn: 0.2913815\ttotal: 68.9ms\tremaining: 742ms\n",
            "17:\tlearn: 0.2902145\ttotal: 72.9ms\tremaining: 737ms\n",
            "18:\tlearn: 0.2898786\ttotal: 76.9ms\tremaining: 732ms\n",
            "19:\tlearn: 0.2895591\ttotal: 80.6ms\tremaining: 726ms\n",
            "20:\tlearn: 0.2893080\ttotal: 84.4ms\tremaining: 719ms\n",
            "21:\tlearn: 0.2853165\ttotal: 88.8ms\tremaining: 719ms\n",
            "22:\tlearn: 0.2853162\ttotal: 92ms\tremaining: 708ms\n",
            "23:\tlearn: 0.2850424\ttotal: 96.3ms\tremaining: 706ms\n",
            "24:\tlearn: 0.2849141\ttotal: 105ms\tremaining: 736ms\n",
            "25:\tlearn: 0.2839789\ttotal: 111ms\tremaining: 742ms\n",
            "26:\tlearn: 0.2835349\ttotal: 116ms\tremaining: 746ms\n",
            "27:\tlearn: 0.2834416\ttotal: 120ms\tremaining: 738ms\n",
            "28:\tlearn: 0.2833435\ttotal: 124ms\tremaining: 731ms\n",
            "29:\tlearn: 0.2820140\ttotal: 128ms\tremaining: 726ms\n",
            "30:\tlearn: 0.2816800\ttotal: 132ms\tremaining: 721ms\n",
            "31:\tlearn: 0.2794058\ttotal: 136ms\tremaining: 717ms\n",
            "32:\tlearn: 0.2779993\ttotal: 141ms\tremaining: 711ms\n",
            "33:\tlearn: 0.2776109\ttotal: 144ms\tremaining: 705ms\n",
            "34:\tlearn: 0.2775303\ttotal: 149ms\tremaining: 700ms\n",
            "35:\tlearn: 0.2775303\ttotal: 152ms\tremaining: 691ms\n",
            "36:\tlearn: 0.2775244\ttotal: 155ms\tremaining: 685ms\n",
            "37:\tlearn: 0.2768227\ttotal: 159ms\tremaining: 679ms\n",
            "38:\tlearn: 0.2766380\ttotal: 163ms\tremaining: 675ms\n",
            "39:\tlearn: 0.2760783\ttotal: 167ms\tremaining: 669ms\n",
            "40:\tlearn: 0.2760555\ttotal: 171ms\tremaining: 663ms\n",
            "41:\tlearn: 0.2758865\ttotal: 175ms\tremaining: 658ms\n",
            "42:\tlearn: 0.2753700\ttotal: 179ms\tremaining: 653ms\n",
            "43:\tlearn: 0.2740392\ttotal: 183ms\tremaining: 649ms\n",
            "44:\tlearn: 0.2736764\ttotal: 187ms\tremaining: 644ms\n",
            "45:\tlearn: 0.2709909\ttotal: 191ms\tremaining: 640ms\n",
            "46:\tlearn: 0.2704471\ttotal: 195ms\tremaining: 636ms\n",
            "47:\tlearn: 0.2702565\ttotal: 206ms\tremaining: 653ms\n",
            "48:\tlearn: 0.2700004\ttotal: 211ms\tremaining: 649ms\n",
            "49:\tlearn: 0.2697497\ttotal: 215ms\tremaining: 644ms\n",
            "50:\tlearn: 0.2693254\ttotal: 219ms\tremaining: 640ms\n",
            "51:\tlearn: 0.2688233\ttotal: 223ms\tremaining: 635ms\n",
            "52:\tlearn: 0.2681881\ttotal: 227ms\tremaining: 630ms\n",
            "53:\tlearn: 0.2681374\ttotal: 231ms\tremaining: 625ms\n",
            "54:\tlearn: 0.2671506\ttotal: 235ms\tremaining: 621ms\n",
            "55:\tlearn: 0.2671253\ttotal: 239ms\tremaining: 615ms\n",
            "56:\tlearn: 0.2660128\ttotal: 243ms\tremaining: 611ms\n",
            "57:\tlearn: 0.2643447\ttotal: 248ms\tremaining: 606ms\n",
            "58:\tlearn: 0.2642844\ttotal: 251ms\tremaining: 601ms\n",
            "59:\tlearn: 0.2637107\ttotal: 255ms\tremaining: 596ms\n",
            "60:\tlearn: 0.2626466\ttotal: 260ms\tremaining: 592ms\n",
            "61:\tlearn: 0.2625747\ttotal: 264ms\tremaining: 587ms\n",
            "62:\tlearn: 0.2624638\ttotal: 267ms\tremaining: 582ms\n",
            "63:\tlearn: 0.2622073\ttotal: 271ms\tremaining: 577ms\n",
            "64:\tlearn: 0.2621926\ttotal: 275ms\tremaining: 572ms\n",
            "65:\tlearn: 0.2614736\ttotal: 279ms\tremaining: 567ms\n",
            "66:\tlearn: 0.2614638\ttotal: 283ms\tremaining: 562ms\n",
            "67:\tlearn: 0.2610517\ttotal: 287ms\tremaining: 558ms\n",
            "68:\tlearn: 0.2610209\ttotal: 291ms\tremaining: 553ms\n",
            "69:\tlearn: 0.2609730\ttotal: 295ms\tremaining: 548ms\n",
            "70:\tlearn: 0.2604321\ttotal: 299ms\tremaining: 544ms\n",
            "71:\tlearn: 0.2602791\ttotal: 303ms\tremaining: 539ms\n",
            "72:\tlearn: 0.2602752\ttotal: 307ms\tremaining: 534ms\n",
            "73:\tlearn: 0.2602554\ttotal: 311ms\tremaining: 529ms\n",
            "74:\tlearn: 0.2602461\ttotal: 315ms\tremaining: 524ms\n",
            "75:\tlearn: 0.2600899\ttotal: 319ms\tremaining: 520ms\n",
            "76:\tlearn: 0.2585092\ttotal: 323ms\tremaining: 516ms\n",
            "77:\tlearn: 0.2583936\ttotal: 327ms\tremaining: 511ms\n",
            "78:\tlearn: 0.2583890\ttotal: 331ms\tremaining: 508ms\n",
            "79:\tlearn: 0.2583704\ttotal: 335ms\tremaining: 503ms\n",
            "80:\tlearn: 0.2583639\ttotal: 339ms\tremaining: 499ms\n",
            "81:\tlearn: 0.2583504\ttotal: 343ms\tremaining: 494ms\n",
            "82:\tlearn: 0.2578674\ttotal: 347ms\tremaining: 489ms\n",
            "83:\tlearn: 0.2577845\ttotal: 351ms\tremaining: 485ms\n",
            "84:\tlearn: 0.2574959\ttotal: 355ms\tremaining: 480ms\n",
            "85:\tlearn: 0.2574890\ttotal: 359ms\tremaining: 476ms\n",
            "86:\tlearn: 0.2574600\ttotal: 363ms\tremaining: 471ms\n",
            "87:\tlearn: 0.2573343\ttotal: 367ms\tremaining: 467ms\n",
            "88:\tlearn: 0.2571632\ttotal: 371ms\tremaining: 462ms\n",
            "89:\tlearn: 0.2571567\ttotal: 374ms\tremaining: 458ms\n",
            "90:\tlearn: 0.2569861\ttotal: 378ms\tremaining: 453ms\n",
            "91:\tlearn: 0.2568889\ttotal: 382ms\tremaining: 449ms\n",
            "92:\tlearn: 0.2566864\ttotal: 386ms\tremaining: 444ms\n",
            "93:\tlearn: 0.2566777\ttotal: 390ms\tremaining: 440ms\n",
            "94:\tlearn: 0.2566772\ttotal: 393ms\tremaining: 435ms\n",
            "95:\tlearn: 0.2563837\ttotal: 397ms\tremaining: 430ms\n",
            "96:\tlearn: 0.2563833\ttotal: 400ms\tremaining: 425ms\n",
            "97:\tlearn: 0.2563789\ttotal: 408ms\tremaining: 424ms\n",
            "98:\tlearn: 0.2563784\ttotal: 411ms\tremaining: 419ms\n",
            "99:\tlearn: 0.2563076\ttotal: 415ms\tremaining: 415ms\n",
            "100:\tlearn: 0.2562160\ttotal: 420ms\tremaining: 411ms\n",
            "101:\tlearn: 0.2557681\ttotal: 424ms\tremaining: 407ms\n",
            "102:\tlearn: 0.2557666\ttotal: 428ms\tremaining: 403ms\n",
            "103:\tlearn: 0.2557649\ttotal: 432ms\tremaining: 399ms\n",
            "104:\tlearn: 0.2557629\ttotal: 436ms\tremaining: 395ms\n",
            "105:\tlearn: 0.2556099\ttotal: 440ms\tremaining: 391ms\n",
            "106:\tlearn: 0.2556013\ttotal: 444ms\tremaining: 386ms\n",
            "107:\tlearn: 0.2555847\ttotal: 449ms\tremaining: 382ms\n",
            "108:\tlearn: 0.2555167\ttotal: 453ms\tremaining: 378ms\n",
            "109:\tlearn: 0.2553151\ttotal: 457ms\tremaining: 374ms\n",
            "110:\tlearn: 0.2551337\ttotal: 462ms\tremaining: 370ms\n",
            "111:\tlearn: 0.2550482\ttotal: 466ms\tremaining: 366ms\n",
            "112:\tlearn: 0.2549928\ttotal: 470ms\tremaining: 362ms\n",
            "113:\tlearn: 0.2549913\ttotal: 474ms\tremaining: 358ms\n",
            "114:\tlearn: 0.2549892\ttotal: 478ms\tremaining: 354ms\n",
            "115:\tlearn: 0.2548689\ttotal: 483ms\tremaining: 350ms\n",
            "116:\tlearn: 0.2548682\ttotal: 487ms\tremaining: 345ms\n",
            "117:\tlearn: 0.2548105\ttotal: 491ms\tremaining: 341ms\n",
            "118:\tlearn: 0.2547695\ttotal: 495ms\tremaining: 337ms\n",
            "119:\tlearn: 0.2545976\ttotal: 499ms\tremaining: 333ms\n",
            "120:\tlearn: 0.2540544\ttotal: 503ms\tremaining: 329ms\n",
            "121:\tlearn: 0.2538530\ttotal: 508ms\tremaining: 325ms\n",
            "122:\tlearn: 0.2537269\ttotal: 512ms\tremaining: 321ms\n",
            "123:\tlearn: 0.2537264\ttotal: 516ms\tremaining: 316ms\n",
            "124:\tlearn: 0.2536594\ttotal: 520ms\tremaining: 312ms\n",
            "125:\tlearn: 0.2536588\ttotal: 524ms\tremaining: 307ms\n",
            "126:\tlearn: 0.2536574\ttotal: 528ms\tremaining: 303ms\n",
            "127:\tlearn: 0.2536550\ttotal: 532ms\tremaining: 299ms\n",
            "128:\tlearn: 0.2536545\ttotal: 536ms\tremaining: 295ms\n",
            "129:\tlearn: 0.2536235\ttotal: 541ms\tremaining: 291ms\n",
            "130:\tlearn: 0.2535797\ttotal: 545ms\tremaining: 287ms\n",
            "131:\tlearn: 0.2531214\ttotal: 550ms\tremaining: 283ms\n",
            "132:\tlearn: 0.2530457\ttotal: 554ms\tremaining: 279ms\n",
            "133:\tlearn: 0.2528364\ttotal: 558ms\tremaining: 275ms\n",
            "134:\tlearn: 0.2528345\ttotal: 562ms\tremaining: 271ms\n",
            "135:\tlearn: 0.2528342\ttotal: 566ms\tremaining: 266ms\n",
            "136:\tlearn: 0.2528249\ttotal: 570ms\tremaining: 262ms\n",
            "137:\tlearn: 0.2528210\ttotal: 575ms\tremaining: 258ms\n",
            "138:\tlearn: 0.2520116\ttotal: 579ms\tremaining: 254ms\n",
            "139:\tlearn: 0.2520048\ttotal: 584ms\tremaining: 250ms\n",
            "140:\tlearn: 0.2519435\ttotal: 588ms\tremaining: 246ms\n",
            "141:\tlearn: 0.2517126\ttotal: 593ms\tremaining: 242ms\n",
            "142:\tlearn: 0.2516110\ttotal: 598ms\tremaining: 238ms\n",
            "143:\tlearn: 0.2515611\ttotal: 602ms\tremaining: 234ms\n",
            "144:\tlearn: 0.2515602\ttotal: 612ms\tremaining: 232ms\n",
            "145:\tlearn: 0.2515030\ttotal: 616ms\tremaining: 228ms\n",
            "146:\tlearn: 0.2514171\ttotal: 620ms\tremaining: 224ms\n",
            "147:\tlearn: 0.2513503\ttotal: 624ms\tremaining: 219ms\n",
            "148:\tlearn: 0.2512562\ttotal: 628ms\tremaining: 215ms\n",
            "149:\tlearn: 0.2512151\ttotal: 632ms\tremaining: 211ms\n",
            "150:\tlearn: 0.2512065\ttotal: 636ms\tremaining: 206ms\n",
            "151:\tlearn: 0.2508699\ttotal: 640ms\tremaining: 202ms\n",
            "152:\tlearn: 0.2507998\ttotal: 644ms\tremaining: 198ms\n",
            "153:\tlearn: 0.2505963\ttotal: 648ms\tremaining: 194ms\n",
            "154:\tlearn: 0.2500024\ttotal: 652ms\tremaining: 189ms\n",
            "155:\tlearn: 0.2500024\ttotal: 655ms\tremaining: 185ms\n",
            "156:\tlearn: 0.2498967\ttotal: 659ms\tremaining: 181ms\n",
            "157:\tlearn: 0.2498643\ttotal: 663ms\tremaining: 176ms\n",
            "158:\tlearn: 0.2497946\ttotal: 667ms\tremaining: 172ms\n",
            "159:\tlearn: 0.2496569\ttotal: 671ms\tremaining: 168ms\n",
            "160:\tlearn: 0.2496458\ttotal: 676ms\tremaining: 164ms\n",
            "161:\tlearn: 0.2496315\ttotal: 679ms\tremaining: 159ms\n",
            "162:\tlearn: 0.2496297\ttotal: 683ms\tremaining: 155ms\n",
            "163:\tlearn: 0.2496067\ttotal: 687ms\tremaining: 151ms\n",
            "164:\tlearn: 0.2495887\ttotal: 691ms\tremaining: 147ms\n",
            "165:\tlearn: 0.2495732\ttotal: 695ms\tremaining: 142ms\n",
            "166:\tlearn: 0.2495290\ttotal: 699ms\tremaining: 138ms\n",
            "167:\tlearn: 0.2495118\ttotal: 703ms\tremaining: 134ms\n",
            "168:\tlearn: 0.2487905\ttotal: 707ms\tremaining: 130ms\n",
            "169:\tlearn: 0.2487903\ttotal: 711ms\tremaining: 125ms\n",
            "170:\tlearn: 0.2487368\ttotal: 715ms\tremaining: 121ms\n",
            "171:\tlearn: 0.2487348\ttotal: 719ms\tremaining: 117ms\n",
            "172:\tlearn: 0.2487206\ttotal: 723ms\tremaining: 113ms\n",
            "173:\tlearn: 0.2487135\ttotal: 727ms\tremaining: 109ms\n",
            "174:\tlearn: 0.2484096\ttotal: 731ms\tremaining: 104ms\n",
            "175:\tlearn: 0.2483942\ttotal: 735ms\tremaining: 100ms\n",
            "176:\tlearn: 0.2483850\ttotal: 739ms\tremaining: 96ms\n",
            "177:\tlearn: 0.2483031\ttotal: 743ms\tremaining: 91.8ms\n",
            "178:\tlearn: 0.2482984\ttotal: 747ms\tremaining: 87.6ms\n",
            "179:\tlearn: 0.2482824\ttotal: 751ms\tremaining: 83.4ms\n",
            "180:\tlearn: 0.2482041\ttotal: 755ms\tremaining: 79.2ms\n",
            "181:\tlearn: 0.2481217\ttotal: 759ms\tremaining: 75ms\n",
            "182:\tlearn: 0.2481162\ttotal: 763ms\tremaining: 70.8ms\n",
            "183:\tlearn: 0.2478576\ttotal: 767ms\tremaining: 66.7ms\n",
            "184:\tlearn: 0.2477915\ttotal: 770ms\tremaining: 62.5ms\n",
            "185:\tlearn: 0.2477895\ttotal: 774ms\tremaining: 58.3ms\n",
            "186:\tlearn: 0.2477874\ttotal: 778ms\tremaining: 54.1ms\n",
            "187:\tlearn: 0.2477419\ttotal: 782ms\tremaining: 49.9ms\n",
            "188:\tlearn: 0.2477207\ttotal: 786ms\tremaining: 45.8ms\n",
            "189:\tlearn: 0.2476948\ttotal: 790ms\tremaining: 41.6ms\n",
            "190:\tlearn: 0.2476800\ttotal: 794ms\tremaining: 37.4ms\n",
            "191:\tlearn: 0.2476733\ttotal: 805ms\tremaining: 33.6ms\n",
            "192:\tlearn: 0.2473844\ttotal: 810ms\tremaining: 29.4ms\n",
            "193:\tlearn: 0.2471850\ttotal: 814ms\tremaining: 25.2ms\n",
            "194:\tlearn: 0.2471713\ttotal: 818ms\tremaining: 21ms\n",
            "195:\tlearn: 0.2471531\ttotal: 822ms\tremaining: 16.8ms\n",
            "196:\tlearn: 0.2470076\ttotal: 826ms\tremaining: 12.6ms\n",
            "197:\tlearn: 0.2470023\ttotal: 834ms\tremaining: 8.42ms\n",
            "198:\tlearn: 0.2469402\ttotal: 838ms\tremaining: 4.21ms\n",
            "199:\tlearn: 0.2469398\ttotal: 842ms\tremaining: 0us\n"
          ],
          "name": "stdout"
        },
        {
          "output_type": "execute_result",
          "data": {
            "text/plain": [
              "AveragingModels(models=(GradientBoostingRegressor(alpha=0.9, criterion='friedman_mse', init=None,\n",
              "             learning_rate=0.05, loss='huber', max_depth=4,\n",
              "             max_features='sqrt', max_leaf_nodes=None,\n",
              "             min_impurity_decrease=0.0, min_impurity_split=None,\n",
              "             min_samples_leaf=15, min_...ample_for_bin=200000, subsample_freq=0), <catboost.core.CatBoostRegressor object at 0x7f6282603e48>))"
            ]
          },
          "metadata": {
            "tags": []
          },
          "execution_count": 43
        }
      ]
    },
    {
      "cell_type": "code",
      "metadata": {
        "id": "VUYMPJhSp2Ox",
        "colab_type": "code",
        "colab": {}
      },
      "source": [
        "preds_averaged_models=averaged_models.predict(X_test)"
      ],
      "execution_count": 0,
      "outputs": []
    },
    {
      "cell_type": "code",
      "metadata": {
        "id": "L7EbNwFrnqMz",
        "colab_type": "code",
        "colab": {}
      },
      "source": [
        "#len(preds_averaged_models)\n",
        "score=np.round(np.clip(preds_averaged_models, 0,1)).astype('int')"
      ],
      "execution_count": 0,
      "outputs": []
    },
    {
      "cell_type": "code",
      "metadata": {
        "id": "kz9xMK-nnvce",
        "colab_type": "code",
        "colab": {}
      },
      "source": [
        "mt = confusion_matrix(y_test.astype('int'), score)"
      ],
      "execution_count": 0,
      "outputs": []
    },
    {
      "cell_type": "code",
      "metadata": {
        "id": "NwRHxQ5tnvpu",
        "colab_type": "code",
        "outputId": "c081adfb-2ab1-4a47-bea7-bf29da9c2b7b",
        "colab": {
          "base_uri": "https://localhost:8080/",
          "height": 51
        }
      },
      "source": [
        "mt"
      ],
      "execution_count": 0,
      "outputs": [
        {
          "output_type": "execute_result",
          "data": {
            "text/plain": [
              "array([[618,  80],\n",
              "       [ 76, 632]])"
            ]
          },
          "metadata": {
            "tags": []
          },
          "execution_count": 47
        }
      ]
    },
    {
      "cell_type": "code",
      "metadata": {
        "id": "5mUI1BbKaa9E",
        "colab_type": "code",
        "outputId": "bcd7c060-37dc-4080-f739-5d1498216012",
        "colab": {
          "base_uri": "https://localhost:8080/",
          "height": 491
        }
      },
      "source": [
        "from sklearn.metrics import average_precision_score\n",
        "average_precision_my = average_precision_score(y_test.astype('int'), score)\n",
        "print ('My', average_precision_my)\n",
        "average_precision_GBoost = average_precision_score(y_test.astype('int'), score_GBoost)\n",
        "print ('GBoost', average_precision_GBoost)\n",
        "average_precision_xgb = average_precision_score(y_test.astype('int'), score_xgb)\n",
        "print ('XGB', average_precision_xgb)\n",
        "average_precision_lgb = average_precision_score(y_test.astype('int'), score_lgb)\n",
        "print ('LGB', average_precision_lgb)\n",
        "average_precision_cat = average_precision_score(y_test.astype('int'), score_cat)\n",
        "print ('CAT_Boost', average_precision_cat)\n",
        "results={'Усредненный ансамбль':average_precision_cat,\n",
        " 'GBoost':average_precision_GBoost,\n",
        " 'XGBoost':average_precision_xgb,\n",
        " 'Light GBM':average_precision_lgb,\n",
        "'CatBoost': average_precision_my}\n",
        "plt.figure(figsize=(12, 6))\n",
        "plt.bar(range(len(results)), list(results.values()))\n",
        "plt.xticks(range(len(results)), list(results.keys()))\n",
        "plt.xlabel('Средняя точность')\n",
        "#plt.ylabel('Модели')"
      ],
      "execution_count": 0,
      "outputs": [
        {
          "output_type": "stream",
          "text": [
            "My 0.846411065416969\n",
            "GBoost 0.8541825281242198\n",
            "XGB 0.8517028742421711\n",
            "LGB 0.8217548544055994\n",
            "CAT_Boost 0.8595953906147726\n"
          ],
          "name": "stdout"
        },
        {
          "output_type": "execute_result",
          "data": {
            "text/plain": [
              "Text(0.5, 0, 'Средняя точность')"
            ]
          },
          "metadata": {
            "tags": []
          },
          "execution_count": 100
        },
        {
          "output_type": "display_data",
          "data": {
            "image/png": "[encoded data removed]",
            "text/plain": [
              "<Figure size 864x432 with 1 Axes>"
            ]
          },
          "metadata": {
            "tags": []
          }
        }
      ]
    },
    {
      "cell_type": "code",
      "metadata": {
        "id": "D-lb1FX5OLE5",
        "colab_type": "code",
        "outputId": "b5dc679c-06f5-4e8a-d2d8-6026ce54e467",
        "colab": {
          "base_uri": "https://localhost:8080/",
          "height": 378
        }
      },
      "source": [
        "from sklearn.metrics import precision_recall_curve\n",
        "import matplotlib.pyplot as plt\n",
        "from sklearn.utils.fixes import signature\n",
        "from sklearn.metrics import average_precision_score\n",
        "precision, recall, _ = precision_recall_curve(y_test.astype('int'), score)\n",
        "precision_lgb, recall_lgb, _ = precision_recall_curve(y_test.astype('int'), score_lgb)\n",
        "precision_cat, recall_cat, _ = precision_recall_curve(y_test.astype('int'), score_cat)\n",
        "precision_xgb, recall_xgb, _ = precision_recall_curve(y_test.astype('int'), score_xgb)\n",
        "precision_GBoost, recall_GBoost, _ = precision_recall_curve(y_test.astype('int'), score_GBoost)\n",
        "step_kwargs = ({'step': 'post'}\n",
        "               if 'step' in signature(plt.fill_between).parameters\n",
        "               else {})\n",
        "\n",
        "\n",
        "plt.step(recall_xgb, precision_xgb, color='y', alpha=0.7,\n",
        "         where='post', linestyle=\"--\", label=\"XGBoost, полнота=\"+str(recall_xgb[1]))\n",
        "#plt.fill_between(recall_lgb, precision_lgb, alpha=0.1, color='b', **step_kwargs)\n",
        "plt.step(recall_lgb, precision_lgb, color='b', alpha=0.7,\n",
        "         where='post', linestyle=\"-.\", label=\"Ligtht GBM, полнота=\"+str(recall_lgb[1]))\n",
        "#plt.fill_between(recall_lgb, precision_lgb, alpha=0.1, color='b', **step_kwargs)\n",
        "plt.step(recall, precision, color='k', alpha=0.7,\n",
        "         where='post', linestyle=\"-\",  label=\"CatBoost, полнота=\"+str(recall[1]))\n",
        "#plt.fill_between(recall, precision, alpha=0.1, color='r', **step_kwargs)\n",
        "plt.step(recall_GBoost, precision_GBoost, color='c', alpha=0.7,\n",
        "         where='post', linestyle=\":\", label=\"GBoost, полнота=\"+str(recall_GBoost[1]))\n",
        "\n",
        "\n",
        "\n",
        "\n",
        "plt.step(recall_cat, precision_cat, color='r', alpha=0.7,\n",
        "         where='post',label=\"Усредненный ансамбль, полнота=\"+str(recall_cat[1]))#+str(precision_cat)\n",
        "plt.fill_between(recall_cat, precision_cat, alpha=0.1, color='g', **step_kwargs)\n",
        "plt.xlabel('Полнота')\n",
        "plt.ylabel('Точность')\n",
        "plt.ylim([0.0, 1.05])\n",
        "plt.xlim([0.0, 1.0])\n",
        "#plt.title('2-class Precision-Recall curve: AP={0:0.2f}'.format(\n",
        "          #average_precision_my))\n",
        "\n",
        "plt.legend(loc=4)"
      ],
      "execution_count": 0,
      "outputs": [
        {
          "output_type": "execute_result",
          "data": {
            "text/plain": [
              "<matplotlib.legend.Legend at 0x7f62746d5c88>"
            ]
          },
          "metadata": {
            "tags": []
          },
          "execution_count": 124
        },
        {
          "output_type": "display_data",
          "data": {
            "image/png": "[encoded data removed]",
            "text/plain": [
              "<Figure size 576x396 with 1 Axes>"
            ]
          },
          "metadata": {
            "tags": []
          }
        }
      ]
    },
    {
      "cell_type": "code",
      "metadata": {
        "id": "5kiJIYWFPA_T",
        "colab_type": "code",
        "outputId": "92d97509-fb5c-4e2b-f963-c4ee8a7cc604",
        "colab": {
          "base_uri": "https://localhost:8080/",
          "height": 34
        }
      },
      "source": [
        "precision\n",
        "recall"
      ],
      "execution_count": 0,
      "outputs": [
        {
          "output_type": "execute_result",
          "data": {
            "text/plain": [
              "array([1.        , 0.89265537, 0.        ])"
            ]
          },
          "metadata": {
            "tags": []
          },
          "execution_count": 59
        }
      ]
    },
    {
      "cell_type": "code",
      "metadata": {
        "id": "wAUiHbD0Sug4",
        "colab_type": "code",
        "outputId": "edeb8270-c470-4a7b-e056-36fffe186556",
        "colab": {
          "base_uri": "https://localhost:8080/",
          "height": 34
        }
      },
      "source": [
        "tn, fp, fn, tp = mt.ravel()\n",
        "tn, fp, fn, tp"
      ],
      "execution_count": 0,
      "outputs": [
        {
          "output_type": "execute_result",
          "data": {
            "text/plain": [
              "(612, 64, 66, 664)"
            ]
          },
          "metadata": {
            "tags": []
          },
          "execution_count": 43
        }
      ]
    },
    {
      "cell_type": "code",
      "metadata": {
        "id": "fafKHKBSX8dx",
        "colab_type": "code",
        "outputId": "e6236f4b-9fa0-4fc0-f4fb-f74f252cbd91",
        "colab": {
          "base_uri": "https://localhost:8080/",
          "height": 170
        }
      },
      "source": [
        "from sklearn.metrics import classification_report\n",
        "target_names = ['class 0', 'class 1']\n",
        "print(classification_report(score, y_test.astype('int'), target_names=target_names))"
      ],
      "execution_count": 0,
      "outputs": [
        {
          "output_type": "stream",
          "text": [
            "              precision    recall  f1-score   support\n",
            "\n",
            "     class 0       0.91      0.90      0.90       678\n",
            "     class 1       0.91      0.91      0.91       728\n",
            "\n",
            "   micro avg       0.91      0.91      0.91      1406\n",
            "   macro avg       0.91      0.91      0.91      1406\n",
            "weighted avg       0.91      0.91      0.91      1406\n",
            "\n"
          ],
          "name": "stdout"
        }
      ]
    },
    {
      "cell_type": "code",
      "metadata": {
        "id": "A-OSvc0AX8SI",
        "colab_type": "code",
        "outputId": "7adeaac4-e7cb-40d5-de66-03d94eed4608",
        "colab": {
          "base_uri": "https://localhost:8080/",
          "height": 34
        }
      },
      "source": [
        "from sklearn.metrics import hamming_loss\n",
        "hamming_loss(score, y_test.astype('int'))"
      ],
      "execution_count": 0,
      "outputs": [
        {
          "output_type": "execute_result",
          "data": {
            "text/plain": [
              "0.09246088193456614"
            ]
          },
          "metadata": {
            "tags": []
          },
          "execution_count": 50
        }
      ]
    },
    {
      "cell_type": "code",
      "metadata": {
        "id": "IeSQej77ZFCe",
        "colab_type": "code",
        "outputId": "74fb7f7d-c3c7-4b21-effa-7c35b1846b43",
        "colab": {
          "base_uri": "https://localhost:8080/",
          "height": 34
        }
      },
      "source": [
        "from sklearn.metrics import matthews_corrcoef\n",
        "matthews_corrcoef(score, y_test.astype('int'))"
      ],
      "execution_count": 0,
      "outputs": [
        {
          "output_type": "execute_result",
          "data": {
            "text/plain": [
              "0.8148286275908594"
            ]
          },
          "metadata": {
            "tags": []
          },
          "execution_count": 51
        }
      ]
    },
    {
      "cell_type": "code",
      "metadata": {
        "id": "4NpaFBuiZE-p",
        "colab_type": "code",
        "colab": {}
      },
      "source": [
        ""
      ],
      "execution_count": 0,
      "outputs": []
    },
    {
      "cell_type": "code",
      "metadata": {
        "id": "RI3VPiDrZE5f",
        "colab_type": "code",
        "colab": {}
      },
      "source": [
        ""
      ],
      "execution_count": 0,
      "outputs": []
    },
    {
      "cell_type": "code",
      "metadata": {
        "id": "335hJ4spZEsm",
        "colab_type": "code",
        "colab": {}
      },
      "source": [
        ""
      ],
      "execution_count": 0,
      "outputs": []
    },
    {
      "cell_type": "code",
      "metadata": {
        "id": "3Dlso37DTMhB",
        "colab_type": "code",
        "colab": {}
      },
      "source": [
        "\n",
        "\n",
        "import itertools\n",
        "import numpy as np\n",
        "import matplotlib.pyplot as plt\n",
        "\n",
        "from sklearn import svm, datasets\n",
        "from sklearn.model_selection import train_test_split\n",
        "from sklearn.metrics import confusion_matrix"
      ],
      "execution_count": 0,
      "outputs": []
    },
    {
      "cell_type": "code",
      "metadata": {
        "id": "lqZQvPEeSvia",
        "colab_type": "code",
        "outputId": "10ab8879-fd51-4013-9d39-2370f7851ecb",
        "colab": {
          "base_uri": "https://localhost:8080/",
          "height": 173
        }
      },
      "source": [
        "exp_series = pd.Series(y_test.astype('int'))\n",
        "pred_series = pd.Series(score)\n",
        "pd.crosstab(exp_series, pred_series, rownames=['Actual'], colnames=['Predicted'],margins=True)"
      ],
      "execution_count": 0,
      "outputs": [
        {
          "output_type": "execute_result",
          "data": {
            "text/html": [
              "<div>\n",
              "<style scoped>\n",
              "    .dataframe tbody tr th:only-of-type {\n",
              "        vertical-align: middle;\n",
              "    }\n",
              "\n",
              "    .dataframe tbody tr th {\n",
              "        vertical-align: top;\n",
              "    }\n",
              "\n",
              "    .dataframe thead th {\n",
              "        text-align: right;\n",
              "    }\n",
              "</style>\n",
              "<table border=\"1\" class=\"dataframe\">\n",
              "  <thead>\n",
              "    <tr style=\"text-align: right;\">\n",
              "      <th>Predicted</th>\n",
              "      <th>0</th>\n",
              "      <th>1</th>\n",
              "      <th>All</th>\n",
              "    </tr>\n",
              "    <tr>\n",
              "      <th>Actual</th>\n",
              "      <th></th>\n",
              "      <th></th>\n",
              "      <th></th>\n",
              "    </tr>\n",
              "  </thead>\n",
              "  <tbody>\n",
              "    <tr>\n",
              "      <th>0</th>\n",
              "      <td>618</td>\n",
              "      <td>80</td>\n",
              "      <td>698</td>\n",
              "    </tr>\n",
              "    <tr>\n",
              "      <th>1</th>\n",
              "      <td>76</td>\n",
              "      <td>632</td>\n",
              "      <td>708</td>\n",
              "    </tr>\n",
              "    <tr>\n",
              "      <th>All</th>\n",
              "      <td>694</td>\n",
              "      <td>712</td>\n",
              "      <td>1406</td>\n",
              "    </tr>\n",
              "  </tbody>\n",
              "</table>\n",
              "</div>"
            ],
            "text/plain": [
              "Predicted    0    1   All\n",
              "Actual                   \n",
              "0          618   80   698\n",
              "1           76  632   708\n",
              "All        694  712  1406"
            ]
          },
          "metadata": {
            "tags": []
          },
          "execution_count": 53
        }
      ]
    },
    {
      "cell_type": "code",
      "metadata": {
        "id": "lzmrBtpKSveY",
        "colab_type": "code",
        "outputId": "caf0849b-af8f-4312-cb98-97526e154085",
        "colab": {
          "base_uri": "https://localhost:8080/",
          "height": 376
        }
      },
      "source": [
        "plt.imshow(mt,cmap=plt.cm.Blues,interpolation='nearest')\n",
        "plt.colorbar()\n",
        "plt.title('Матрица несоответствия')\n",
        "plt.xlabel('Выявленные значения')\n",
        "plt.ylabel('Истинные значения')\n",
        "tick_marks = np.arange(len(set(y.astype('int')))) # length of classes\n",
        "class_labels = ['0','1']\n",
        "tick_marks\n",
        "plt.xticks(tick_marks,class_labels)\n",
        "plt.yticks(tick_marks,class_labels)\n",
        "# plotting text value inside cells\n",
        "thresh = mt.max() / 2.\n",
        "for i,j in itertools.product(range(mt.shape[0]),range(mt.shape[1])):\n",
        "    plt.text(j,i,format(mt[i,j],'d'),horizontalalignment='center',color='white' if mt[i,j] >thresh else 'black')\n",
        "plt.show()"
      ],
      "execution_count": 0,
      "outputs": [
        {
          "output_type": "display_data",
          "data": {
            "image/png": "[encoded data removed]",
            "text/plain": [
              "<Figure size 576x396 with 2 Axes>"
            ]
          },
          "metadata": {
            "tags": []
          }
        }
      ]
    },
    {
      "cell_type": "code",
      "metadata": {
        "id": "4kW0XmGTnXl2",
        "colab_type": "code",
        "outputId": "a76caf57-07c9-4f45-cac4-efd162e5afee",
        "colab": {
          "base_uri": "https://localhost:8080/",
          "height": 347
        }
      },
      "source": [
        "from sklearn import svm, datasets\n",
        "from sklearn import metrics\n",
        "from sklearn.linear_model import LogisticRegression\n",
        "from sklearn.model_selection import train_test_split\n",
        "from sklearn.datasets import load_breast_cancer\n",
        "import matplotlib.pyplot as plt\n",
        "fpr_cat, tpr_cat, _ = metrics.roc_curve(y_test.astype('int'), score_cat)\n",
        "auc_cat = metrics.roc_auc_score(y_test.astype('int'), score_cat)\n",
        "plt.plot(fpr_cat,tpr_cat,label=\"Усредненный ансамбль, auc=\"+str(auc_cat))\n",
        "fpr, tpr, _ = metrics.roc_curve(y_test.astype('int'), score)\n",
        "auc = metrics.roc_auc_score(y_test.astype('int'), score)\n",
        "plt.plot(fpr,tpr,label=\"Cat Boost, auc=\"+str(auc))\n",
        "\n",
        "fpr_lgb, tpr_lgb, _ = metrics.roc_curve(y_test.astype('int'), score_lgb)\n",
        "auc_lgb = metrics.roc_auc_score(y_test.astype('int'), score_lgb)\n",
        "plt.plot(fpr_lgb,tpr_lgb,label=\"Light GBM, auc=\"+str(auc_lgb))\n",
        "fpr_xgb, tpr_xgb, _ = metrics.roc_curve(y_test.astype('int'), score_xgb)\n",
        "auc_xgb = metrics.roc_auc_score(y_test.astype('int'), score_xgb)\n",
        "plt.plot(fpr_xgb,tpr_xgb,label=\"XGBoost, auc=\"+str(auc_xgb))\n",
        "fpr_g, tpr_g, _ = metrics.roc_curve(y_test.astype('int'), score_GBoost)\n",
        "auc_g = metrics.roc_auc_score(y_test.astype('int'), score_GBoost)\n",
        "plt.plot(fpr_g,tpr_g,label=\"GBoost, auc=\"+str(auc_g))\n",
        "plt.legend(loc=4)\n",
        "plt.show()"
      ],
      "execution_count": 0,
      "outputs": [
        {
          "output_type": "display_data",
          "data": {
            "image/png": "[encoded data removed]",
            "text/plain": [
              "<Figure size 576x396 with 1 Axes>"
            ]
          },
          "metadata": {
            "tags": []
          }
        }
      ]
    },
    {
      "cell_type": "code",
      "metadata": {
        "id": "hdrC9RxAZ16Y",
        "colab_type": "code",
        "colab": {}
      },
      "source": [
        ""
      ],
      "execution_count": 0,
      "outputs": []
    },
    {
      "cell_type": "code",
      "metadata": {
        "id": "iv2ZGuvZZ12c",
        "colab_type": "code",
        "colab": {}
      },
      "source": [
        ""
      ],
      "execution_count": 0,
      "outputs": []
    },
    {
      "cell_type": "code",
      "metadata": {
        "id": "obl1EKCoZ1mV",
        "colab_type": "code",
        "colab": {}
      },
      "source": [
        ""
      ],
      "execution_count": 0,
      "outputs": []
    },
    {
      "cell_type": "code",
      "metadata": {
        "id": "93Yxb_XUaIvI",
        "colab_type": "code",
        "outputId": "f4b45a73-bf1a-4378-a3b4-5af1f4593938",
        "colab": {
          "base_uri": "https://localhost:8080/",
          "height": 33
        }
      },
      "source": [
        "from mlxtend.evaluate import lift_score\n",
        "lift_score(y.astype('int'), score)"
      ],
      "execution_count": 0,
      "outputs": [
        {
          "output_type": "execute_result",
          "data": {
            "text/plain": [
              "5.283823273410935"
            ]
          },
          "metadata": {
            "tags": []
          },
          "execution_count": 55
        }
      ]
    },
    {
      "cell_type": "code",
      "metadata": {
        "id": "YZ2JXlpebJzD",
        "colab_type": "code",
        "outputId": "e671fecb-0c1f-49db-e412-b22f7365d108",
        "colab": {
          "base_uri": "https://localhost:8080/",
          "height": 51
        }
      },
      "source": [
        "mt\n"
      ],
      "execution_count": 0,
      "outputs": [
        {
          "output_type": "execute_result",
          "data": {
            "text/plain": [
              "array([[20160,    54],\n",
              "       [ 3588,   742]])"
            ]
          },
          "metadata": {
            "tags": []
          },
          "execution_count": 63
        }
      ]
    },
    {
      "cell_type": "code",
      "metadata": {
        "id": "QNfduQm1eyPl",
        "colab_type": "code",
        "colab": {}
      },
      "source": [
        ""
      ],
      "execution_count": 0,
      "outputs": []
    },
    {
      "cell_type": "code",
      "metadata": {
        "id": "QD8qax3Tdmvl",
        "colab_type": "code",
        "outputId": "0a8a5540-709b-4a5b-e1ba-de12258ca560",
        "colab": {
          "base_uri": "https://localhost:8080/",
          "height": 33
        }
      },
      "source": [
        "len(y)"
      ],
      "execution_count": 0,
      "outputs": [
        {
          "output_type": "execute_result",
          "data": {
            "text/plain": [
              "1000"
            ]
          },
          "metadata": {
            "tags": []
          },
          "execution_count": 75
        }
      ]
    },
    {
      "cell_type": "code",
      "metadata": {
        "id": "GUpgVghWaIrx",
        "colab_type": "code",
        "outputId": "b01569d7-a126-4771-fc54-fd8724c154d9",
        "colab": {
          "base_uri": "https://localhost:8080/",
          "height": 579
        }
      },
      "source": [
        "\n",
        "# precision-recall curve and f1\n",
        "from sklearn.datasets import make_classification\n",
        "from sklearn.neighbors import KNeighborsClassifier\n",
        "from sklearn.model_selection import train_test_split\n",
        "from sklearn.metrics import precision_recall_curve\n",
        "from sklearn.metrics import f1_score\n",
        "from sklearn.metrics import auc\n",
        "from sklearn.metrics import average_precision_score\n",
        "from matplotlib import pyplot\n",
        "precision, recall, thresholds = precision_recall_curve(y.astype('int'), score)\n",
        "# calculate F1 score\n",
        "f1 = f1_score(testy, yhat)\n",
        "# calculate precision-recall AUC\n",
        "auc = auc(recall, precision)\n",
        "# calculate average precision score\n",
        "ap = average_precision_score(testy, probs)\n",
        "print('f1=%.3f auc=%.3f ap=%.3f' % (f1, auc, ap))\n",
        "# plot no skill\n",
        "pyplot.plot([0, 1], [0.5, 0.5], linestyle='--')\n",
        "# plot the roc curve for the model\n",
        "pyplot.plot(recall, precision, marker='.')\n",
        "# show the plot\n",
        "pyplot.show()"
      ],
      "execution_count": 0,
      "outputs": [
        {
          "output_type": "error",
          "ename": "ValueError",
          "evalue": "ignored",
          "traceback": [
            "\u001b[0;31m---------------------------------------------------------------------------\u001b[0m",
            "\u001b[0;31mValueError\u001b[0m                                Traceback (most recent call last)",
            "\u001b[0;32m<ipython-input-73-e4f1878aaadc>\u001b[0m in \u001b[0;36m<module>\u001b[0;34m()\u001b[0m\n\u001b[1;32m      7\u001b[0m \u001b[0;32mfrom\u001b[0m \u001b[0msklearn\u001b[0m\u001b[0;34m.\u001b[0m\u001b[0mmetrics\u001b[0m \u001b[0;32mimport\u001b[0m \u001b[0maverage_precision_score\u001b[0m\u001b[0;34m\u001b[0m\u001b[0;34m\u001b[0m\u001b[0m\n\u001b[1;32m      8\u001b[0m \u001b[0;32mfrom\u001b[0m \u001b[0mmatplotlib\u001b[0m \u001b[0;32mimport\u001b[0m \u001b[0mpyplot\u001b[0m\u001b[0;34m\u001b[0m\u001b[0;34m\u001b[0m\u001b[0m\n\u001b[0;32m----> 9\u001b[0;31m \u001b[0mprecision\u001b[0m\u001b[0;34m,\u001b[0m \u001b[0mrecall\u001b[0m\u001b[0;34m,\u001b[0m \u001b[0mthresholds\u001b[0m \u001b[0;34m=\u001b[0m \u001b[0mprecision_recall_curve\u001b[0m\u001b[0;34m(\u001b[0m\u001b[0my\u001b[0m\u001b[0;34m.\u001b[0m\u001b[0mastype\u001b[0m\u001b[0;34m(\u001b[0m\u001b[0;34m'int'\u001b[0m\u001b[0;34m)\u001b[0m\u001b[0;34m,\u001b[0m \u001b[0mscore\u001b[0m\u001b[0;34m)\u001b[0m\u001b[0;34m\u001b[0m\u001b[0;34m\u001b[0m\u001b[0m\n\u001b[0m",
            "\u001b[0;32m/usr/local/lib/python3.6/dist-packages/sklearn/metrics/ranking.py\u001b[0m in \u001b[0;36mprecision_recall_curve\u001b[0;34m(y_true, probas_pred, pos_label, sample_weight)\u001b[0m\n\u001b[1;32m    520\u001b[0m     fps, tps, thresholds = _binary_clf_curve(y_true, probas_pred,\n\u001b[1;32m    521\u001b[0m                                              \u001b[0mpos_label\u001b[0m\u001b[0;34m=\u001b[0m\u001b[0mpos_label\u001b[0m\u001b[0;34m,\u001b[0m\u001b[0;34m\u001b[0m\u001b[0;34m\u001b[0m\u001b[0m\n\u001b[0;32m--> 522\u001b[0;31m                                              sample_weight=sample_weight)\n\u001b[0m\u001b[1;32m    523\u001b[0m \u001b[0;34m\u001b[0m\u001b[0m\n\u001b[1;32m    524\u001b[0m     \u001b[0mprecision\u001b[0m \u001b[0;34m=\u001b[0m \u001b[0mtps\u001b[0m \u001b[0;34m/\u001b[0m \u001b[0;34m(\u001b[0m\u001b[0mtps\u001b[0m \u001b[0;34m+\u001b[0m \u001b[0mfps\u001b[0m\u001b[0;34m)\u001b[0m\u001b[0;34m\u001b[0m\u001b[0;34m\u001b[0m\u001b[0m\n",
            "\u001b[0;32m/usr/local/lib/python3.6/dist-packages/sklearn/metrics/ranking.py\u001b[0m in \u001b[0;36m_binary_clf_curve\u001b[0;34m(y_true, y_score, pos_label, sample_weight)\u001b[0m\n\u001b[1;32m    397\u001b[0m         \u001b[0;32mraise\u001b[0m \u001b[0mValueError\u001b[0m\u001b[0;34m(\u001b[0m\u001b[0;34m\"{0} format is not supported\"\u001b[0m\u001b[0;34m.\u001b[0m\u001b[0mformat\u001b[0m\u001b[0;34m(\u001b[0m\u001b[0my_type\u001b[0m\u001b[0;34m)\u001b[0m\u001b[0;34m)\u001b[0m\u001b[0;34m\u001b[0m\u001b[0;34m\u001b[0m\u001b[0m\n\u001b[1;32m    398\u001b[0m \u001b[0;34m\u001b[0m\u001b[0m\n\u001b[0;32m--> 399\u001b[0;31m     \u001b[0mcheck_consistent_length\u001b[0m\u001b[0;34m(\u001b[0m\u001b[0my_true\u001b[0m\u001b[0;34m,\u001b[0m \u001b[0my_score\u001b[0m\u001b[0;34m,\u001b[0m \u001b[0msample_weight\u001b[0m\u001b[0;34m)\u001b[0m\u001b[0;34m\u001b[0m\u001b[0;34m\u001b[0m\u001b[0m\n\u001b[0m\u001b[1;32m    400\u001b[0m     \u001b[0my_true\u001b[0m \u001b[0;34m=\u001b[0m \u001b[0mcolumn_or_1d\u001b[0m\u001b[0;34m(\u001b[0m\u001b[0my_true\u001b[0m\u001b[0;34m)\u001b[0m\u001b[0;34m\u001b[0m\u001b[0;34m\u001b[0m\u001b[0m\n\u001b[1;32m    401\u001b[0m     \u001b[0my_score\u001b[0m \u001b[0;34m=\u001b[0m \u001b[0mcolumn_or_1d\u001b[0m\u001b[0;34m(\u001b[0m\u001b[0my_score\u001b[0m\u001b[0;34m)\u001b[0m\u001b[0;34m\u001b[0m\u001b[0;34m\u001b[0m\u001b[0m\n",
            "\u001b[0;32m/usr/local/lib/python3.6/dist-packages/sklearn/utils/validation.py\u001b[0m in \u001b[0;36mcheck_consistent_length\u001b[0;34m(*arrays)\u001b[0m\n\u001b[1;32m    233\u001b[0m     \u001b[0;32mif\u001b[0m \u001b[0mlen\u001b[0m\u001b[0;34m(\u001b[0m\u001b[0muniques\u001b[0m\u001b[0;34m)\u001b[0m \u001b[0;34m>\u001b[0m \u001b[0;36m1\u001b[0m\u001b[0;34m:\u001b[0m\u001b[0;34m\u001b[0m\u001b[0;34m\u001b[0m\u001b[0m\n\u001b[1;32m    234\u001b[0m         raise ValueError(\"Found input variables with inconsistent numbers of\"\n\u001b[0;32m--> 235\u001b[0;31m                          \" samples: %r\" % [int(l) for l in lengths])\n\u001b[0m\u001b[1;32m    236\u001b[0m \u001b[0;34m\u001b[0m\u001b[0m\n\u001b[1;32m    237\u001b[0m \u001b[0;34m\u001b[0m\u001b[0m\n",
            "\u001b[0;31mValueError\u001b[0m: Found input variables with inconsistent numbers of samples: [1000, 24544]"
          ]
        }
      ]
    },
    {
      "cell_type": "code",
      "metadata": {
        "id": "FWQJ95_UaIkA",
        "colab_type": "code",
        "colab": {}
      },
      "source": [
        ""
      ],
      "execution_count": 0,
      "outputs": []
    },
    {
      "cell_type": "code",
      "metadata": {
        "id": "CQUDECrdaIc-",
        "colab_type": "code",
        "colab": {}
      },
      "source": [
        ""
      ],
      "execution_count": 0,
      "outputs": []
    },
    {
      "cell_type": "code",
      "metadata": {
        "id": "g3XA4p7oaIVR",
        "colab_type": "code",
        "colab": {}
      },
      "source": [
        ""
      ],
      "execution_count": 0,
      "outputs": []
    },
    {
      "cell_type": "code",
      "metadata": {
        "id": "3PolajsWSvao",
        "colab_type": "code",
        "colab": {}
      },
      "source": [
        ""
      ],
      "execution_count": 0,
      "outputs": []
    },
    {
      "cell_type": "code",
      "metadata": {
        "id": "iJTm7XpYp2Fr",
        "colab_type": "code",
        "colab": {}
      },
      "source": [
        "import os\n",
        "import glob\n",
        "import numpy as np\n",
        "import pandas as pd\n",
        "import matplotlib.pyplot as plt\n",
        "import time, pickle\n",
        "import xgboost as xgb\n",
        "import seaborn as sns"
      ],
      "execution_count": 0,
      "outputs": []
    },
    {
      "cell_type": "code",
      "metadata": {
        "id": "PRvFHmBc9DHU",
        "colab_type": "code",
        "colab": {}
      },
      "source": [
        "train = pd.read_csv('Train (2).csv')\n",
        "test = pd.read_csv('Test (2).csv')\n",
        "\n",
        "train = train.replace(np.nan, 0)\n",
        "test = test.replace(np.nan, 0)"
      ],
      "execution_count": 0,
      "outputs": []
    },
    {
      "cell_type": "code",
      "metadata": {
        "id": "G_53h-xm-HMA",
        "colab_type": "code",
        "colab": {}
      },
      "source": [
        "COLUMNS = ['street_id', 'build_tech', 'floor', 'area', 'rooms', 'balcon', 'metro_dist', 'g_lift', 'n_photos', 'kw1', 'kw2', 'kw3', 'kw4', 'kw5', 'kw6', 'kw7', 'kw8', 'kw9', 'kw10', 'kw11', 'kw12', 'kw13']"
      ],
      "execution_count": 0,
      "outputs": []
    },
    {
      "cell_type": "code",
      "metadata": {
        "id": "_1pPuazG-J_I",
        "colab_type": "code",
        "colab": {}
      },
      "source": [
        "y = train['price'].values\n",
        "X = train[COLUMNS].values\n",
        "Xt = test[COLUMNS].values"
      ],
      "execution_count": 0,
      "outputs": []
    },
    {
      "cell_type": "code",
      "metadata": {
        "id": "QLZIRVYSBTLJ",
        "colab_type": "code",
        "colab": {}
      },
      "source": [
        "from sklearn.model_selection import train_test_split"
      ],
      "execution_count": 0,
      "outputs": []
    },
    {
      "cell_type": "code",
      "metadata": {
        "id": "GxN0aBlVBWrp",
        "colab_type": "code",
        "colab": {}
      },
      "source": [
        "X_train, X_test, y_train, y_test = train_test_split(X, y, test_size=0.33, random_state=42)"
      ],
      "execution_count": 0,
      "outputs": []
    },
    {
      "cell_type": "code",
      "metadata": {
        "id": "yg2sy0Vb-NFy",
        "colab_type": "code",
        "outputId": "fe143a67-2309-4693-824e-7ab3a8d4a511",
        "colab": {
          "base_uri": "https://localhost:8080/",
          "height": 119
        }
      },
      "source": [
        "import sklearn.ensemble\n",
        "mdl = sklearn.ensemble.RandomForestRegressor()\n",
        "\n",
        "mdl.fit(X_train, y_train)"
      ],
      "execution_count": 0,
      "outputs": [
        {
          "output_type": "execute_result",
          "data": {
            "text/plain": [
              "RandomForestRegressor(bootstrap=True, criterion='mse', max_depth=None,\n",
              "           max_features='auto', max_leaf_nodes=None,\n",
              "           min_impurity_decrease=0.0, min_impurity_split=None,\n",
              "           min_samples_leaf=1, min_samples_split=2,\n",
              "           min_weight_fraction_leaf=0.0, n_estimators=10, n_jobs=1,\n",
              "           oob_score=False, random_state=None, verbose=0, warm_start=False)"
            ]
          },
          "metadata": {
            "tags": []
          },
          "execution_count": 43
        }
      ]
    },
    {
      "cell_type": "code",
      "metadata": {
        "id": "tqFKcX_HBnSJ",
        "colab_type": "code",
        "colab": {}
      },
      "source": [
        "preds = mdl.predict(X_test)\n"
      ],
      "execution_count": 0,
      "outputs": []
    },
    {
      "cell_type": "code",
      "metadata": {
        "id": "S1y39aptBunz",
        "colab_type": "code",
        "outputId": "d6c78106-6e2d-4c10-fff7-afcaaf085aa2",
        "colab": {
          "base_uri": "https://localhost:8080/",
          "height": 34
        }
      },
      "source": [
        "sklearn.metrics.mean_absolute_error(y_true=y_test, y_pred=preds)"
      ],
      "execution_count": 0,
      "outputs": [
        {
          "output_type": "execute_result",
          "data": {
            "text/plain": [
              "1772125.8307864356"
            ]
          },
          "metadata": {
            "tags": []
          },
          "execution_count": 45
        }
      ]
    },
    {
      "cell_type": "markdown",
      "metadata": {
        "id": "AiMGZ0smCKSH",
        "colab_type": "text"
      },
      "source": [
        "**Bayesian Ridge Regression**"
      ]
    },
    {
      "cell_type": "code",
      "metadata": {
        "id": "Zj49XLzbB9tG",
        "colab_type": "code",
        "colab": {}
      },
      "source": [
        "from sklearn import linear_model"
      ],
      "execution_count": 0,
      "outputs": []
    },
    {
      "cell_type": "code",
      "metadata": {
        "id": "I1Jf-ZsoCk2t",
        "colab_type": "code",
        "colab": {}
      },
      "source": [
        "reg = linear_model.BayesianRidge()"
      ],
      "execution_count": 0,
      "outputs": []
    },
    {
      "cell_type": "code",
      "metadata": {
        "id": "q9JGt9tPCpCR",
        "colab_type": "code",
        "colab": {}
      },
      "source": [
        "reg.fit(X_train, y_train)"
      ],
      "execution_count": 0,
      "outputs": []
    },
    {
      "cell_type": "code",
      "metadata": {
        "id": "dVsjPhe-CvRH",
        "colab_type": "code",
        "colab": {}
      },
      "source": [
        "preds2=reg.predict(X_test)"
      ],
      "execution_count": 0,
      "outputs": []
    },
    {
      "cell_type": "code",
      "metadata": {
        "id": "C8KQotBzC4Gn",
        "colab_type": "code",
        "outputId": "16ad9ae5-a753-4a73-b833-bff128f18616",
        "colab": {
          "base_uri": "https://localhost:8080/",
          "height": 34
        }
      },
      "source": [
        "sklearn.metrics.mean_absolute_error(y_true=y_test, y_pred=preds2)"
      ],
      "execution_count": 0,
      "outputs": [
        {
          "output_type": "execute_result",
          "data": {
            "text/plain": [
              "1962019.1965382786"
            ]
          },
          "metadata": {
            "tags": []
          },
          "execution_count": 18
        }
      ]
    },
    {
      "cell_type": "code",
      "metadata": {
        "id": "QW8tdi7liEJL",
        "colab_type": "code",
        "outputId": "2b0cc5a3-49b3-45fd-f5ed-af21837355ad",
        "colab": {
          "base_uri": "https://localhost:8080/",
          "height": 173
        }
      },
      "source": [
        "!pip install lightgbm"
      ],
      "execution_count": 0,
      "outputs": [
        {
          "output_type": "stream",
          "text": [
            "Collecting lightgbm\n",
            "\u001b[?25l  Downloading https://files.pythonhosted.org/packages/24/8d/783679697bdf1585dc96acfe7c8538d6fab33ad80e827cadb7b413e61da6/lightgbm-2.1.2-py2.py3-none-manylinux1_x86_64.whl (730kB)\n",
            "\u001b[K    100% |████████████████████████████████| 737kB 5.8MB/s \n",
            "\u001b[?25hRequirement already satisfied: scipy in /usr/local/lib/python3.6/dist-packages (from lightgbm) (0.19.1)\n",
            "Requirement already satisfied: numpy in /usr/local/lib/python3.6/dist-packages (from lightgbm) (1.14.5)\n",
            "Requirement already satisfied: scikit-learn in /usr/local/lib/python3.6/dist-packages (from lightgbm) (0.19.1)\n",
            "Installing collected packages: lightgbm\n",
            "Successfully installed lightgbm-2.1.2\n"
          ],
          "name": "stdout"
        }
      ]
    },
    {
      "cell_type": "code",
      "metadata": {
        "id": "9iuDdv9MFSKN",
        "colab_type": "code",
        "colab": {}
      },
      "source": [
        "from sklearn.linear_model import ElasticNet, Lasso,  BayesianRidge, LassoLarsIC\n",
        "from sklearn.ensemble import RandomForestRegressor,  GradientBoostingRegressor\n",
        "from sklearn.kernel_ridge import KernelRidge\n",
        "from sklearn.pipeline import make_pipeline\n",
        "from sklearn.preprocessing import RobustScaler\n",
        "from sklearn.base import BaseEstimator, TransformerMixin, RegressorMixin, clone\n",
        "from sklearn.model_selection import KFold, cross_val_score, train_test_split\n",
        "from sklearn.metrics import mean_squared_error\n",
        "import xgboost as xgb\n",
        "import lightgbm as lgb"
      ],
      "execution_count": 0,
      "outputs": []
    },
    {
      "cell_type": "code",
      "metadata": {
        "id": "3rx41w-6FSHt",
        "colab_type": "code",
        "colab": {}
      },
      "source": [
        "n_folds = 5\n",
        "\n",
        "def rmsle_cv(model):\n",
        "    kf = KFold(n_folds, shuffle=True, random_state=42).get_n_splits(X_train)\n",
        "    #mae=sklearn.metrics.mean_absolute_error(X_train, y_train)\n",
        "    rmse= np.sqrt(-cross_val_score(model, X, y, scoring=\"neg_mean_squared_error\", cv = kf))\n",
        "    return(rmse)"
      ],
      "execution_count": 0,
      "outputs": []
    },
    {
      "cell_type": "code",
      "metadata": {
        "id": "mfarO3osFSEl",
        "colab_type": "code",
        "colab": {}
      },
      "source": [
        "lasso = make_pipeline(RobustScaler(), Lasso(alpha =0.0005, random_state=1))\n"
      ],
      "execution_count": 0,
      "outputs": []
    },
    {
      "cell_type": "code",
      "metadata": {
        "id": "pOP5uYvPiUIH",
        "colab_type": "code",
        "colab": {}
      },
      "source": [
        "ENet = make_pipeline(RobustScaler(), ElasticNet(alpha=0.0005, l1_ratio=.9, random_state=3))"
      ],
      "execution_count": 0,
      "outputs": []
    },
    {
      "cell_type": "code",
      "metadata": {
        "id": "t3PxpisTiY3H",
        "colab_type": "code",
        "colab": {}
      },
      "source": [
        "GBoost = GradientBoostingRegressor(n_estimators=3000, learning_rate=0.05,\n",
        "                                   max_depth=4, max_features='sqrt',\n",
        "                                   min_samples_leaf=15, min_samples_split=10, \n",
        "                                   loss='huber', random_state =5)"
      ],
      "execution_count": 0,
      "outputs": []
    },
    {
      "cell_type": "code",
      "metadata": {
        "id": "KIHh09RiicFi",
        "colab_type": "code",
        "colab": {}
      },
      "source": [
        "model_xgb = xgb.XGBRegressor(colsample_bytree=0.4603, gamma=0.0468, \n",
        "                             learning_rate=0.05, max_depth=3, \n",
        "                             min_child_weight=1.7817, n_estimators=2200,\n",
        "                             reg_alpha=0.4640, reg_lambda=0.8571,\n",
        "                             subsample=0.5213, silent=1,\n",
        "                             random_state =7, nthread = -1)"
      ],
      "execution_count": 0,
      "outputs": []
    },
    {
      "cell_type": "code",
      "metadata": {
        "id": "-FxEgK0IifYr",
        "colab_type": "code",
        "colab": {}
      },
      "source": [
        "model_lgb = lgb.LGBMRegressor(objective='regression',num_leaves=5,\n",
        "                              learning_rate=0.05, n_estimators=720,\n",
        "                              max_bin = 55, bagging_fraction = 0.8,\n",
        "                              bagging_freq = 5, feature_fraction = 0.2319,\n",
        "                              feature_fraction_seed=9, bagging_seed=9,\n",
        "                              min_data_in_leaf =6, min_sum_hessian_in_leaf = 11)"
      ],
      "execution_count": 0,
      "outputs": []
    },
    {
      "cell_type": "code",
      "metadata": {
        "id": "3gO7k3KEkNh3",
        "colab_type": "code",
        "outputId": "171e18dd-8665-4ef2-cffd-b22efba02a85",
        "colab": {
          "base_uri": "https://localhost:8080/",
          "height": 102
        }
      },
      "source": [
        "lasso.fit(X_train, y_train)"
      ],
      "execution_count": 0,
      "outputs": [
        {
          "output_type": "execute_result",
          "data": {
            "text/plain": [
              "Pipeline(memory=None,\n",
              "     steps=[('robustscaler', RobustScaler(copy=True, quantile_range=(25.0, 75.0), with_centering=True,\n",
              "       with_scaling=True)), ('lasso', Lasso(alpha=0.0005, copy_X=True, fit_intercept=True, max_iter=1000,\n",
              "   normalize=False, positive=False, precompute=False, random_state=1,\n",
              "   selection='cyclic', tol=0.0001, warm_start=False))])"
            ]
          },
          "metadata": {
            "tags": []
          },
          "execution_count": 19
        }
      ]
    },
    {
      "cell_type": "code",
      "metadata": {
        "id": "IcBjSfLykV-3",
        "colab_type": "code",
        "colab": {}
      },
      "source": [
        "preds_lasso=lasso.predict(X_test)"
      ],
      "execution_count": 0,
      "outputs": []
    },
    {
      "cell_type": "code",
      "metadata": {
        "id": "fOCczzlAkd8r",
        "colab_type": "code",
        "outputId": "41c9185f-2398-465f-ed5c-5b55397a7f24",
        "colab": {
          "base_uri": "https://localhost:8080/",
          "height": 34
        }
      },
      "source": [
        "sklearn.metrics.mean_absolute_error(y_true=y_test, y_pred=preds_lasso)"
      ],
      "execution_count": 0,
      "outputs": [
        {
          "output_type": "execute_result",
          "data": {
            "text/plain": [
              "1962005.580727992"
            ]
          },
          "metadata": {
            "tags": []
          },
          "execution_count": 21
        }
      ]
    },
    {
      "cell_type": "code",
      "metadata": {
        "id": "kipTXBYHkk75",
        "colab_type": "code",
        "outputId": "6b3f90b6-b257-4f54-b2e9-aee6e91562a1",
        "colab": {
          "base_uri": "https://localhost:8080/",
          "height": 102
        }
      },
      "source": [
        "ENet.fit(X_train, y_train)"
      ],
      "execution_count": 0,
      "outputs": [
        {
          "output_type": "execute_result",
          "data": {
            "text/plain": [
              "Pipeline(memory=None,\n",
              "     steps=[('robustscaler', RobustScaler(copy=True, quantile_range=(25.0, 75.0), with_centering=True,\n",
              "       with_scaling=True)), ('elasticnet', ElasticNet(alpha=0.0005, copy_X=True, fit_intercept=True, l1_ratio=0.9,\n",
              "      max_iter=1000, normalize=False, positive=False, precompute=False,\n",
              "      random_state=3, selection='cyclic', tol=0.0001, warm_start=False))])"
            ]
          },
          "metadata": {
            "tags": []
          },
          "execution_count": 28
        }
      ]
    },
    {
      "cell_type": "code",
      "metadata": {
        "id": "7etLiD2mkk5W",
        "colab_type": "code",
        "colab": {}
      },
      "source": [
        "preds_ENet=ENet.predict(X_test)"
      ],
      "execution_count": 0,
      "outputs": []
    },
    {
      "cell_type": "code",
      "metadata": {
        "id": "Kv-K_0Idkk2L",
        "colab_type": "code",
        "outputId": "fc1a2357-4e68-4dad-9ff4-150160280f45",
        "colab": {
          "base_uri": "https://localhost:8080/",
          "height": 34
        }
      },
      "source": [
        "sklearn.metrics.mean_absolute_error(y_true=y_test, y_pred=preds_ENet)"
      ],
      "execution_count": 0,
      "outputs": [
        {
          "output_type": "execute_result",
          "data": {
            "text/plain": [
              "1961966.9720420456"
            ]
          },
          "metadata": {
            "tags": []
          },
          "execution_count": 31
        }
      ]
    },
    {
      "cell_type": "code",
      "metadata": {
        "id": "d7q_bVKckkyG",
        "colab_type": "code",
        "outputId": "86adc934-f068-4ddd-d89f-f1cff0a4c326",
        "colab": {
          "base_uri": "https://localhost:8080/",
          "height": 153
        }
      },
      "source": [
        "GBoost.fit(X_train, y_train)"
      ],
      "execution_count": 0,
      "outputs": [
        {
          "output_type": "execute_result",
          "data": {
            "text/plain": [
              "GradientBoostingRegressor(alpha=0.9, criterion='friedman_mse', init=None,\n",
              "             learning_rate=0.05, loss='huber', max_depth=4,\n",
              "             max_features='sqrt', max_leaf_nodes=None,\n",
              "             min_impurity_decrease=0.0, min_impurity_split=None,\n",
              "             min_samples_leaf=15, min_samples_split=10,\n",
              "             min_weight_fraction_leaf=0.0, n_estimators=3000,\n",
              "             presort='auto', random_state=5, subsample=1.0, verbose=0,\n",
              "             warm_start=False)"
            ]
          },
          "metadata": {
            "tags": []
          },
          "execution_count": 12
        }
      ]
    },
    {
      "cell_type": "code",
      "metadata": {
        "id": "1F8mP-jykkt7",
        "colab_type": "code",
        "colab": {}
      },
      "source": [
        "preds_GBoost=GBoost.predict(X_test)"
      ],
      "execution_count": 0,
      "outputs": []
    },
    {
      "cell_type": "code",
      "metadata": {
        "id": "Hm0CmI3Akkkt",
        "colab_type": "code",
        "outputId": "cbe1cf1a-4a59-4646-d3f7-2959e34e3d78",
        "colab": {
          "base_uri": "https://localhost:8080/",
          "height": 34
        }
      },
      "source": [
        "import sklearn\n",
        "sklearn.metrics.mean_absolute_error(y_true=y_test, y_pred=preds_GBoost)"
      ],
      "execution_count": 0,
      "outputs": [
        {
          "output_type": "execute_result",
          "data": {
            "text/plain": [
              "1573740.7422462571"
            ]
          },
          "metadata": {
            "tags": []
          },
          "execution_count": 15
        }
      ]
    },
    {
      "cell_type": "code",
      "metadata": {
        "id": "9ua2tfVumkp4",
        "colab_type": "code",
        "outputId": "1827ffe9-69ff-41d6-c042-97c35ff3323d",
        "colab": {
          "base_uri": "https://localhost:8080/",
          "height": 136
        }
      },
      "source": [
        "model_xgb.fit(X_train, y_train)"
      ],
      "execution_count": 0,
      "outputs": [
        {
          "output_type": "execute_result",
          "data": {
            "text/plain": [
              "XGBRegressor(base_score=0.5, booster='gbtree', colsample_bylevel=1,\n",
              "       colsample_bytree=0.4603, gamma=0.0468, learning_rate=0.05,\n",
              "       max_delta_step=0, max_depth=3, min_child_weight=1.7817,\n",
              "       missing=None, n_estimators=2200, n_jobs=1, nthread=-1,\n",
              "       objective='reg:linear', random_state=7, reg_alpha=0.464,\n",
              "       reg_lambda=0.8571, scale_pos_weight=1, seed=None, silent=1,\n",
              "       subsample=0.5213)"
            ]
          },
          "metadata": {
            "tags": []
          },
          "execution_count": 16
        }
      ]
    },
    {
      "cell_type": "code",
      "metadata": {
        "id": "4fwWu-izmkV9",
        "colab_type": "code",
        "colab": {}
      },
      "source": [
        "preds_model_xgbt=model_xgb.predict(X_test)"
      ],
      "execution_count": 0,
      "outputs": []
    },
    {
      "cell_type": "code",
      "metadata": {
        "id": "o8zrdHgGmkIt",
        "colab_type": "code",
        "outputId": "8d22c01c-dc2a-42cb-e3fb-360a51cbaaaf",
        "colab": {
          "base_uri": "https://localhost:8080/",
          "height": 34
        }
      },
      "source": [
        "sklearn.metrics.mean_absolute_error(y_true=y_test, y_pred=preds_model_xgbt)"
      ],
      "execution_count": 0,
      "outputs": [
        {
          "output_type": "execute_result",
          "data": {
            "text/plain": [
              "1476823.146203125"
            ]
          },
          "metadata": {
            "tags": []
          },
          "execution_count": 18
        }
      ]
    },
    {
      "cell_type": "code",
      "metadata": {
        "id": "hn4YN8qOops4",
        "colab_type": "code",
        "outputId": "02c44e21-a778-48ee-edac-2575fb4064e7",
        "colab": {
          "base_uri": "https://localhost:8080/",
          "height": 170
        }
      },
      "source": [
        "model_lgb.fit(X_train, y_train)"
      ],
      "execution_count": 0,
      "outputs": [
        {
          "output_type": "execute_result",
          "data": {
            "text/plain": [
              "LGBMRegressor(bagging_fraction=0.8, bagging_freq=5, bagging_seed=9,\n",
              "       boosting_type='gbdt', class_weight=None, colsample_bytree=1.0,\n",
              "       feature_fraction=0.2319, feature_fraction_seed=9,\n",
              "       learning_rate=0.05, max_bin=55, max_depth=-1, min_child_samples=20,\n",
              "       min_child_weight=0.001, min_data_in_leaf=6, min_split_gain=0.0,\n",
              "       min_sum_hessian_in_leaf=11, n_estimators=720, n_jobs=-1,\n",
              "       num_leaves=5, objective='regression', random_state=None,\n",
              "       reg_alpha=0.0, reg_lambda=0.0, silent=True, subsample=1.0,\n",
              "       subsample_for_bin=200000, subsample_freq=0)"
            ]
          },
          "metadata": {
            "tags": []
          },
          "execution_count": 19
        }
      ]
    },
    {
      "cell_type": "code",
      "metadata": {
        "id": "PC1AZIo5opiF",
        "colab_type": "code",
        "colab": {}
      },
      "source": [
        "preds_model_lgb=model_lgb.predict(X_test)"
      ],
      "execution_count": 0,
      "outputs": []
    },
    {
      "cell_type": "code",
      "metadata": {
        "id": "oZh6yMi_wNAw",
        "colab_type": "code",
        "colab": {}
      },
      "source": [
        "class AveragingModels(BaseEstimator, RegressorMixin, TransformerMixin):\n",
        "    def __init__(self, models):\n",
        "        self.models = models\n",
        "        \n",
        "    # we define clones of the original models to fit the data in\n",
        "    def fit(self, X, y):\n",
        "        self.models_ = [clone(x) for x in self.models]\n",
        "        \n",
        "        # Train cloned base models\n",
        "        for model in self.models_:\n",
        "            model.fit(X, y)\n",
        "\n",
        "        return self\n",
        "    \n",
        "    #Now we do the predictions for cloned models and average them\n",
        "    def predict(self, X):\n",
        "        predictions = np.column_stack([\n",
        "            model.predict(X) for model in self.models_\n",
        "        ])\n",
        "        return np.mean(predictions, axis=1) "
      ],
      "execution_count": 0,
      "outputs": []
    },
    {
      "cell_type": "code",
      "metadata": {
        "id": "iOPpcNwawM7v",
        "colab_type": "code",
        "outputId": "4d0eea56-64c3-48e5-cdc4-9c62d8de1975",
        "colab": {
          "base_uri": "https://localhost:8080/",
          "height": 122
        }
      },
      "source": [
        "averaged_models = AveragingModels(models = (ENet, GBoost, model_lgb, lasso))\n",
        "\n",
        "averaged_models.fit(X_train, y_train)"
      ],
      "execution_count": 0,
      "outputs": [
        {
          "output_type": "execute_result",
          "data": {
            "text/plain": [
              "AveragingModels(models=(Pipeline(memory=None,\n",
              "     steps=[('robustscaler', RobustScaler(copy=True, quantile_range=(25.0, 75.0), with_centering=True,\n",
              "       with_scaling=True)), ('elasticnet', ElasticNet(alpha=0.0005, copy_X=True, fit_intercept=True, l1_ratio=0.9,\n",
              "      max_iter=1000, normalize=False, positive=False...ve=False, precompute=False, random_state=1,\n",
              "   selection='cyclic', tol=0.0001, warm_start=False))])))"
            ]
          },
          "metadata": {
            "tags": []
          },
          "execution_count": 63
        }
      ]
    },
    {
      "cell_type": "code",
      "metadata": {
        "id": "SNPi653GwM3r",
        "colab_type": "code",
        "colab": {}
      },
      "source": [
        "preds_averaged_models=averaged_models.predict(X_test)"
      ],
      "execution_count": 0,
      "outputs": []
    },
    {
      "cell_type": "code",
      "metadata": {
        "id": "zMCW95SYwMvl",
        "colab_type": "code",
        "outputId": "0861341c-31d7-41fc-ac3d-cf92073fa5ed",
        "colab": {
          "base_uri": "https://localhost:8080/",
          "height": 34
        }
      },
      "source": [
        "sklearn.metrics.mean_absolute_error(y_true=y_test, y_pred=preds_averaged_models)"
      ],
      "execution_count": 0,
      "outputs": [
        {
          "output_type": "execute_result",
          "data": {
            "text/plain": [
              "1895808.8267175274"
            ]
          },
          "metadata": {
            "tags": []
          },
          "execution_count": 60
        }
      ]
    },
    {
      "cell_type": "code",
      "metadata": {
        "id": "3Toh2xgAyEh3",
        "colab_type": "code",
        "colab": {}
      },
      "source": [
        ""
      ],
      "execution_count": 0,
      "outputs": []
    },
    {
      "cell_type": "code",
      "metadata": {
        "id": "1bH3VDvPyETm",
        "colab_type": "code",
        "colab": {}
      },
      "source": [
        ""
      ],
      "execution_count": 0,
      "outputs": []
    },
    {
      "cell_type": "code",
      "metadata": {
        "id": "rq2ADSt0yEHr",
        "colab_type": "code",
        "colab": {}
      },
      "source": [
        ""
      ],
      "execution_count": 0,
      "outputs": []
    },
    {
      "cell_type": "code",
      "metadata": {
        "id": "BOjl0qmM-7qf",
        "colab_type": "code",
        "outputId": "488ab670-62cf-4d81-b3cb-b20eccdb7b31",
        "colab": {
          "base_uri": "https://localhost:8080/",
          "height": 105
        }
      },
      "source": [
        "!apt-get install -y -qq software-properties-common python-software-properties module-init-tools\n",
        "!add-apt-repository -y ppa:alessandro-strada/ppa 2>&1 > /dev/null\n",
        "!apt-get update -qq 2>&1 > /dev/null\n",
        "!apt-get -y install -qq google-drive-ocamlfuse fuse\n",
        "\n",
        "from google.colab import auth\n",
        "auth.authenticate_user()\n",
        "from oauth2client.client import GoogleCredentials\n",
        "creds = GoogleCredentials.get_application_default()\n",
        "import getpass\n",
        "\n",
        "!google-drive-ocamlfuse -headless -id={creds.client_id} -secret={creds.client_secret} < /dev/null 2>&1 | grep URL\n",
        "vcode = getpass.getpass()\n",
        "!echo {vcode} | google-drive-ocamlfuse -headless -id={creds.client_id} -secret={creds.client_secret}"
      ],
      "execution_count": 0,
      "outputs": [
        {
          "output_type": "stream",
          "text": [
            "Please, open the following URL in a web browser: https://accounts.google.com/o/oauth2/auth?client_id=32555940559.apps.googleusercontent.com&redirect_uri=urn%3Aietf%3Awg%3Aoauth%3A2.0%3Aoob&scope=https%3A%2F%2Fwww.googleapis.com%2Fauth%2Fdrive&response_type=code&access_type=offline&approval_prompt=force\r\n",
            "··········\n",
            "Please, open the following URL in a web browser: https://accounts.google.com/o/oauth2/auth?client_id=32555940559.apps.googleusercontent.com&redirect_uri=urn%3Aietf%3Awg%3Aoauth%3A2.0%3Aoob&scope=https%3A%2F%2Fwww.googleapis.com%2Fauth%2Fdrive&response_type=code&access_type=offline&approval_prompt=force\n",
            "Please enter the verification code: Access token retrieved correctly.\n"
          ],
          "name": "stdout"
        }
      ]
    },
    {
      "cell_type": "code",
      "metadata": {
        "id": "0WRKqvmY_erI",
        "colab_type": "code",
        "colab": {}
      },
      "source": [
        "!mkdir -p drive\n",
        "!google-drive-ocamlfuse drive\n",
        "#'drive/Colab Notebooks/'"
      ],
      "execution_count": 0,
      "outputs": []
    },
    {
      "cell_type": "code",
      "metadata": {
        "id": "VB7CPEog-aG9",
        "colab_type": "code",
        "colab": {}
      },
      "source": [
        "preds = averaged_models.predict(Xt)\n",
        "\n",
        "test['price'] = preds\n",
        "\n",
        "test[['id', 'price']].to_csv('drive/Colab Notebooks/sub10.csv', index=False)"
      ],
      "execution_count": 0,
      "outputs": []
    }
  ]
}